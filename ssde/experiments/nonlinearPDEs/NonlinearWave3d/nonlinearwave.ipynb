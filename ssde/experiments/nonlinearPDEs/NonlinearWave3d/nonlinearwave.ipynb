{
 "cells": [
  {
   "cell_type": "markdown",
   "metadata": {},
   "source": [
    "# Nonlinear Wave Equation\n",
    "\n",
    "This notebook presents a symbolic solution of the nonlinear wave equation in three dimension. The equation is given by:\n",
    "\n",
    "$$\n",
    "\\frac{\\partial^2 u}{\\partial t^2} = c^2 (\\frac{\\partial^2 u}{\\partial x_1^2} + \\frac{\\partial^2 u}{\\partial x_2^2} + \\frac{\\partial^2 u}{\\partial x_3^2}) + u^2 + f(x,t)\n",
    "$$\n",
    "    \n",
    "where $u(x,t)$ is the wave function, $c$ is the wave speed, and $f(x,t)$ is a forcing term. \n",
    "\n",
    "We set the wave speed $c=1$.\n",
    "\n"
   ]
  },
  {
   "cell_type": "code",
   "execution_count": 1,
   "metadata": {},
   "outputs": [
    {
     "name": "stdout",
     "output_type": "stream",
     "text": [
      "real_params:['t', 'x1', 'x2', 'x3']\n",
      "source:((-4.0*x1**2 - 4.0*x3**2 - 2.75)*exp(1.0*t + x1**2 + x3**2) - exp(0.5*t + 2*x1**2 + 2*x3**2)*cos(x2))*exp(-1.5*t)*cos(x2)\n"
     ]
    }
   ],
   "source": [
    "import os\n",
    "import time\n",
    "import torch\n",
    "import pickle\n",
    "import sympy as sp\n",
    "import numpy as np\n",
    "from scipy.optimize import least_squares\n",
    "from ssde import PDERecursionSolver\n",
    "from ssde.execute import cython_recursion_execute as ce\n",
    "from ssde.execute import python_execute as pe\n",
    "from ssde.program import Program\n",
    "from ssde.utils import jupyter_logging, cube\n",
    "from ssde.const import make_const_optimizer\n",
    "from ssde.pde import function_map\n",
    "from ssde.task.recursion.recursion import make_regression_metric\n",
    "from ssde.gradients import hessian, jacobian\n",
    "from ssde.library import PlaceholderConstant\n",
    "\n",
    "\n",
    "np.random.seed(0)\n",
    "LEFT, RIGHT = -1, 1\n",
    "TLEFT, TRIGHT = 0, 1\n",
    "if not os.path.exists('logs'):\n",
    "    os.makedirs('logs')\n",
    "\n",
    "# The solution is only used to get the bcs and source term here\n",
    "SOLUTION = sp.sympify(\"exp(x1**2 + x3**2)*cos(x2)*exp(-0.5*t)\")\n",
    "\n",
    "def calculate_source(solution):\n",
    "    ''' Calculate the source term of the PDE '''\n",
    "    # solution: sympy expr of the solution\n",
    "    real_params = dict()\n",
    "    for symbol in sp.preorder_traversal(solution):\n",
    "        if isinstance(symbol, sp.Symbol):\n",
    "            exec('%s = sp.Symbol(\"%s\")' % (symbol.name, symbol.name))\n",
    "            if symbol.name not in real_params:\n",
    "                real_params[symbol.name] = None\n",
    "    real_params = sorted(list(real_params.keys()))\n",
    "    print(f'real_params:{real_params}')\n",
    "    source = 0\n",
    "    for i in real_params:\n",
    "        if i == 't':\n",
    "            source += sp.diff(solution, i, 2)\n",
    "            continue\n",
    "        source -= sp.diff(solution, i, 2)\n",
    "    source -= solution**2\n",
    "    print(f'source:{sp.N(sp.simplify(source))}')\n",
    "    solution_func = sp.lambdify(real_params, solution, modules='numpy')\n",
    "    source_func = sp.lambdify(real_params, source, modules='numpy')\n",
    "    return solution_func, source_func, real_params\n",
    "\n",
    "def replace_nxexpr(traversals, index=0, new_traversal=None):\n",
    "    \"\"\"\n",
    "    Replace Nxexpr in the traversal with the corresponding expression recursively.\n",
    "\n",
    "    Parameters\n",
    "    ----------\n",
    "    traversals : list\n",
    "        The list of traversal of the single variable.\n",
    "    index : int\n",
    "        The index of current traversal.\n",
    "    new_traversal : list\n",
    "        The result of the replacement.\n",
    "    \"\"\"\n",
    "    if new_traversal is None:\n",
    "        new_traversal = []\n",
    "\n",
    "    if index + 1 == len(traversals):\n",
    "        return new_traversal + traversals[index]\n",
    "    \n",
    "    current_ls = traversals[index]\n",
    "    for token in current_ls:\n",
    "        if token.name != 'Nxexpr':\n",
    "            new_traversal.append(token)\n",
    "        else:\n",
    "            sub_result = replace_nxexpr(traversals, index+1, [])\n",
    "            new_traversal.extend(sub_result)\n",
    "    return new_traversal\n",
    "\n",
    "def opti_nxexpr(traversal, x, y):\n",
    "    def opti_consts(nxexpr):\n",
    "        for token in traversal:\n",
    "            if token.name == 'Nxexpr':\n",
    "                token.value = nxexpr.reshape(-1,1)\n",
    "        y_hat = ce(traversal, x)\n",
    "        return (y_hat-y).ravel()\n",
    "    return opti_consts\n",
    "\n",
    "@jupyter_logging(\"logs/single_var.log\")\n",
    "def solve_single_var(X_input, y_input, var_index, config_file, diff=None):\n",
    "    model = PDERecursionSolver(config_file)\n",
    "    start_time = time.time()\n",
    "    config = model.fit(X_input, y_input, start_n_var=var_index,diff=diff)\n",
    "    print(f'Time used: {time.time()-start_time}')\n",
    "    traversal = config.program_.traversal\n",
    "    expr = config.program_.sympy_expr\n",
    "    print(f'Identified var x{var_index}\\'s parametirc expression:')\n",
    "    print(expr)\n",
    "    print(f'Identified var x{var_index}\\'s traversal:')\n",
    "    print(traversal)\n",
    "    return traversal, expr, model\n",
    "\n",
    "\n",
    "solution_func, source_func, real_params = calculate_source(SOLUTION)"
   ]
  },
  {
   "cell_type": "markdown",
   "metadata": {},
   "source": [
    "## Expression of `t` "
   ]
  },
  {
   "cell_type": "code",
   "execution_count": 2,
   "metadata": {},
   "outputs": [],
   "source": [
    "# boundary conditions of t direction\n",
    "n_tbc_dim1 = 10\n",
    "n_x123bc_dim1 = 10\n",
    "\n",
    "t_bc = np.linspace(TLEFT, TRIGHT, n_tbc_dim1)\n",
    "t_bc_dim1 = t_bc.reshape(-1, 1)\n",
    "X123bc = cube(LEFT, RIGHT, n_x123bc_dim1)\n",
    "X1bc = X123bc[:, 0]\n",
    "X2bc = X123bc[:, 1]\n",
    "X3bc = X123bc[:, 2]\n",
    "X, yz_inx = np.meshgrid(t_bc, np.arange(n_x123bc_dim1), indexing='ij')\n",
    "coordinates = np.stack([X.flatten(), X1bc[yz_inx].flatten(), X2bc[yz_inx].flatten(), X3bc[yz_inx].flatten()], axis=-1)\n",
    "\n",
    "y_bc_dim1 = solution_func(*coordinates.transpose(1,0)).reshape(-1, n_x123bc_dim1)"
   ]
  },
  {
   "cell_type": "code",
   "execution_count": 3,
   "metadata": {},
   "outputs": [
    {
     "name": "stdout",
     "output_type": "stream",
     "text": [
      "Saved Trainer state to models/3dwave_t_model/trainer.json.\n",
      "t model successfully saved\n",
      "t traversal successfully saved\n"
     ]
    }
   ],
   "source": [
    "X_input = [None, t_bc_dim1]\n",
    "y_input = [None, y_bc_dim1]\n",
    "\n",
    "def u_tt_forward(y, t):\n",
    "    return hessian(y, t, i=0, j=0)\n",
    "LOG_PATH = 'logs/3dwave_t.log'\n",
    "config_file = 'configs/config_wave3d.json'\n",
    "if os.path.exists(LOG_PATH):\n",
    "    os.remove(LOG_PATH)\n",
    "t_traversal, t_expr, t_model = solve_single_var(X_input, y_input, \n",
    "                                                1, config_file, log_path=LOG_PATH,diff=u_tt_forward)\n",
    "\n",
    "\n",
    "t_model.save('models/3dwave_t_model')\n",
    "print('t model successfully saved')\n",
    "for i in t_traversal:\n",
    "    if i.name == 'x1':\n",
    "        i.name = 't'\n",
    "with open('models/3dwave_t_traversal.pkl', 'wb') as f:\n",
    "    pickle.dump(t_traversal, f)\n",
    "print('t traversal successfully saved')"
   ]
  },
  {
   "cell_type": "markdown",
   "metadata": {},
   "source": [
    "## Expression of `X1` "
   ]
  },
  {
   "cell_type": "code",
   "execution_count": 4,
   "metadata": {},
   "outputs": [],
   "source": [
    "# Compute the value of const (actually the label of x2)\n",
    "n_tbc = 1\n",
    "n_x1bc = 31\n",
    "n_x23bc = 4\n",
    "t_bc = np.array([TLEFT])\n",
    "X1_bc = np.linspace(LEFT, RIGHT, n_x1bc).reshape(-1,1)\n",
    "X_bc_dim2 = X1_bc\n",
    "X23_bc = np.random.uniform(LEFT, RIGHT, (n_x23bc,2))\n",
    "X2_bc = X23_bc[:, 0]\n",
    "X3_bc = X23_bc[:, 1]\n",
    "T, X1, x23_inx = np.meshgrid(t_bc, X1_bc, np.arange(n_x23bc), indexing='ij')\n",
    "x1_points = np.stack([T.flatten(), X1.flatten(), X2_bc[x23_inx].flatten(), X3_bc[x23_inx].flatten()], axis=-1)\n",
    "y_bc = solution_func(*x1_points.T).reshape(-1, 1)"
   ]
  },
  {
   "cell_type": "code",
   "execution_count": 6,
   "metadata": {},
   "outputs": [],
   "source": [
    "with open('models/3dwave_t_traversal.pkl', 'rb') as f:\n",
    "    t_traversal = pickle.load(f)\n",
    "\n",
    "opti_x1expr = opti_nxexpr(t_traversal, x1_points, y_bc)\n",
    "\n",
    "consts = np.ones(x1_points.shape[0])\n",
    "res = least_squares(opti_x1expr, consts, method='lm')\n",
    "y_bc_reshaped = res.x.reshape(n_tbc, n_x1bc, n_x23bc,1)\n",
    "y_bc_transposed = y_bc_reshaped.transpose(1,0,2,3)\n",
    "y_bc_dim2 = y_bc_transposed.reshape((n_x1bc, -1))"
   ]
  },
  {
   "cell_type": "code",
   "execution_count": 7,
   "metadata": {},
   "outputs": [
    {
     "name": "stdout",
     "output_type": "stream",
     "text": [
      "Saved Trainer state to models/3dwave_x1_model/trainer.json.\n",
      "x1 model successfully saved\n",
      "x1 traversal successfully saved\n"
     ]
    }
   ],
   "source": [
    "X_input = [None, X_bc_dim2]\n",
    "y_input = [None, y_bc_dim2]\n",
    "\n",
    "config_file = 'configs/config_wave3d.json'\n",
    "LOG_PATH = 'logs/3dwave_x1.log'\n",
    "if os.path.exists('logs/3dwave_x1.log'):\n",
    "    os.remove('logs/3dwave_x1.log')\n",
    "\n",
    "x1_traversal, x1_expr, x1_model = solve_single_var(X_input, y_input, \n",
    "                                                1, config_file, log_path=LOG_PATH)\n",
    "x1_model.save('models/3dwave_x1_model')\n",
    "print('x1 model successfully saved')\n",
    "with open('models/3dwave_x1_traversal.pkl', 'wb') as f:\n",
    "    pickle.dump(x1_traversal, f)\n",
    "print('x1 traversal successfully saved')"
   ]
  },
  {
   "cell_type": "code",
   "execution_count": 2,
   "metadata": {},
   "outputs": [],
   "source": [
    "traversals = []\n",
    "with open(f'models/3dwave_t_traversal.pkl', 'rb') as f:\n",
    "    traversals.append(pickle.load(f))\n",
    "for i in range(1,2):\n",
    "    with open(f'models/3dwave_x{i}_traversal.pkl', 'rb') as f:\n",
    "        traversals.append(pickle.load(f))\n",
    "new_traversal = replace_nxexpr(traversals)\n",
    "for token in new_traversal:\n",
    "    if token.input_var is not None and token.name[0] == 'x':\n",
    "        token.input_var = int(token.name[1])\n",
    "\n",
    "# To optimize nxexpr more accurately, we need use more points on the boundary to optimize the generated skeleton before\n",
    "n_t = 10\n",
    "n_x1bc = 21\n",
    "t_refine = np.linspace(TLEFT, TRIGHT, n_t)\n",
    "X1_refine = np.linspace(LEFT, RIGHT, n_x1bc)\n",
    "X2_refine, X3_refine = np.array([LEFT]), np.array([RIGHT])\n",
    "coordinates = np.array(np.meshgrid(t_refine, X1_refine, X2_refine, X3_refine)).T.reshape(-1, 4)\n",
    "y_refine = solution_func(*coordinates.T).reshape(-1, 1)"
   ]
  },
  {
   "cell_type": "code",
   "execution_count": 3,
   "metadata": {},
   "outputs": [
    {
     "name": "stdout",
     "output_type": "stream",
     "text": [
      "Identified solution: exp(Nxexpr - 0.4999999998224172*t + 1.0000000036652303*x1**2)\n"
     ]
    }
   ],
   "source": [
    "const_pos = [i for i, t in enumerate(new_traversal) if isinstance(t, PlaceholderConstant)]\n",
    "for i in const_pos:\n",
    "    if new_traversal[i].name == 'Nxexpr':\n",
    "        temp = new_traversal[i].value\n",
    "        new_traversal[i].value = 1\n",
    "ini_const = np.array([new_traversal[i].value for i in const_pos], dtype=np.float64).ravel()\n",
    "def refine_consts(consts):\n",
    "    for i, j in enumerate(const_pos):\n",
    "        new_traversal[j].value = consts[i].reshape(-1,1)\n",
    "    y_hat = ce(new_traversal, coordinates)\n",
    "    return (y_hat-y_refine).ravel()\n",
    "res = least_squares(refine_consts, ini_const, method='lm')\n",
    "consts = res.x\n",
    "for i, j in enumerate(const_pos):\n",
    "    if new_traversal[j].name != 'Nxexpr':\n",
    "        new_traversal[j].value = consts[i].reshape(-1)\n",
    "        new_traversal[j].parse_value()\n",
    "    else:\n",
    "        new_traversal[j].value = temp\n",
    "        \n",
    "\n",
    "test_p = Program()\n",
    "test_p.traversal = new_traversal\n",
    "sym_expr = sp.simplify(sp.N(sp.expand(sp.sympify(test_p.sympy_expr)),4))\n",
    "print(f'Identified solution: {sym_expr}')\n",
    "\n",
    "with open('models/3dwave_dim2_traversal.pkl', 'wb') as f:\n",
    "    pickle.dump(new_traversal, f)"
   ]
  },
  {
   "cell_type": "markdown",
   "metadata": {},
   "source": [
    "## Expression of `X2`"
   ]
  },
  {
   "cell_type": "code",
   "execution_count": 11,
   "metadata": {},
   "outputs": [],
   "source": [
    "# Compute the value of const (actually the label of x2)\n",
    "n_tbc = 1\n",
    "n_x1bc = 1\n",
    "n_x2bc = 31\n",
    "n_x3bc = 4\n",
    "t_bc = np.array([TLEFT])\n",
    "X1_bc = np.array([LEFT])\n",
    "X2_bc = np.linspace(LEFT, RIGHT, n_x2bc).reshape(-1,1)\n",
    "X3_bc = np.random.uniform(LEFT, RIGHT, (n_x3bc,1))\n",
    "t, X1, X2, X3 = np.meshgrid(t_bc, X1_bc, X2_bc, X3_bc, indexing='ij')\n",
    "\n",
    "x1_points = np.stack([t.ravel(), X1.ravel(), X2.ravel(), X3.ravel()], axis=-1)\n",
    "X_bc_dim3 = np.concatenate((np.tile(X1_bc, (n_x2bc,1)),X2_bc),axis=1)\n",
    "y_bc = solution_func(*x1_points.T).reshape(-1, 1)"
   ]
  },
  {
   "cell_type": "code",
   "execution_count": 12,
   "metadata": {},
   "outputs": [],
   "source": [
    "opti_x2expr = opti_nxexpr(new_traversal, x1_points, y_bc)\n",
    "consts = np.ones(x1_points.shape[0])\n",
    "res = least_squares(opti_x2expr, consts, method='lm')\n",
    "y_bc_dim3 = res.x.reshape(-1,n_x3bc)\n",
    "X_input = [None, X_bc_dim3]\n",
    "y_input = [None, y_bc_dim3]"
   ]
  },
  {
   "cell_type": "code",
   "execution_count": 14,
   "metadata": {},
   "outputs": [
    {
     "name": "stdout",
     "output_type": "stream",
     "text": [
      "Saved Trainer state to models/3dwave_x2_model/trainer.json.\n",
      "x2 model successfully saved\n",
      "x2 traversal successfully saved\n"
     ]
    }
   ],
   "source": [
    "config_file = 'configs/config_wave3d.json'\n",
    "LOG_PATH = 'logs/3dwave_x2.log'\n",
    "if os.path.exists(LOG_PATH):\n",
    "    os.remove(LOG_PATH)\n",
    "x2_traversal, x2_expr, x2_model = solve_single_var(X_input, y_input, \n",
    "                                                2, config_file, log_path=LOG_PATH)\n",
    "x2_model.save('models/3dwave_x2_model')\n",
    "print('x2 model successfully saved')\n",
    "with open('models/3dwave_x2_traversal.pkl', 'wb') as f:\n",
    "    pickle.dump(x2_traversal, f)\n",
    "print('x2 traversal successfully saved')"
   ]
  },
  {
   "cell_type": "code",
   "execution_count": 4,
   "metadata": {},
   "outputs": [
    {
     "name": "stdout",
     "output_type": "stream",
     "text": [
      "Identified solution: exp(Nxexpr - 0.5*t + 1.0*x1**2)*cos(x2)**1.0\n"
     ]
    }
   ],
   "source": [
    "with open(f'models/3dwave_dim2_traversal.pkl', 'rb') as f:\n",
    "    dim2_traversal = pickle.load(f)\n",
    "with open(f'models/3dwave_x2_traversal.pkl', 'rb') as f:\n",
    "    x2_traversal = pickle.load(f)\n",
    "new_traversal = replace_nxexpr([dim2_traversal, x2_traversal])\n",
    "\n",
    "for token in new_traversal:\n",
    "    if token.name == 'Nxexpr':\n",
    "            temp = token.value\n",
    "            token.value = 1\n",
    "    if token.input_var is not None:\n",
    "        if token.name[0] == 'x':\n",
    "            token.input_var = int(token.name[1])\n",
    "        \n",
    "\n",
    "# To optimize nxexpr more accurately, we need use more points on the boundary to optimize the generated skeleton before\n",
    "n_t = 10\n",
    "n_x1bc = 11\n",
    "n_x2bc = 11\n",
    "t_refine = np.linspace(TLEFT, TRIGHT, n_t)\n",
    "X1_refine = np.linspace(LEFT, RIGHT, n_x1bc)\n",
    "X2_refine =  np.linspace(LEFT, RIGHT, n_x2bc)\n",
    "X3_refine = np.array([RIGHT])\n",
    "coordinates = np.array(np.meshgrid(t_refine, X1_refine, X2_refine, X3_refine)).T.reshape(-1, 4)\n",
    "y_refine = solution_func(*coordinates.T).reshape(-1, 1)\n",
    "\n",
    "# 优化\n",
    "const_pos = [i for i, t in enumerate(new_traversal) if isinstance(t, PlaceholderConstant)]\n",
    "ini_const = np.array([new_traversal[i].value for i in const_pos], dtype=np.float64).ravel()\n",
    "def refine_consts(consts):\n",
    "    for i, j in enumerate(const_pos):\n",
    "        new_traversal[j].value = consts[i].reshape(-1,1)\n",
    "    y_hat = ce(new_traversal, coordinates)\n",
    "    return (y_hat-y_refine).ravel()\n",
    "res = least_squares(refine_consts, ini_const, method='lm')\n",
    "consts = res.x\n",
    "for i, j in enumerate(const_pos):\n",
    "    if new_traversal[j].name != 'Nxexpr':\n",
    "        new_traversal[j].value = consts[i].reshape(-1)\n",
    "        new_traversal[j].parse_value()\n",
    "    else:\n",
    "        new_traversal[j].value = temp\n",
    "\n",
    "test_p = Program()\n",
    "test_p.traversal = new_traversal\n",
    "sym_expr = sp.simplify(sp.N(sp.expand(sp.sympify(test_p.sympy_expr)),4))\n",
    "print(f'Identified solution: {sym_expr}')\n",
    "with open('models/3dwave_dim3_traversal.pkl', 'wb') as f:\n",
    "    pickle.dump(new_traversal, f)"
   ]
  },
  {
   "cell_type": "markdown",
   "metadata": {},
   "source": [
    "## Expression of `x3`"
   ]
  },
  {
   "cell_type": "code",
   "execution_count": 17,
   "metadata": {},
   "outputs": [],
   "source": [
    "# Compute the value of const (actually the label of x2)\n",
    "n_tbc = 1\n",
    "n_x1bc = 1\n",
    "n_x2bc = 1\n",
    "n_x3bc = 31\n",
    "t_bc = np.array([TLEFT])\n",
    "X1_bc = np.array([LEFT])\n",
    "X2_bc = np.array([LEFT])\n",
    "X3_bc = np.linspace(LEFT, RIGHT, n_x3bc).reshape(-1,1)\n",
    "T, X1, X2, X3 = np.meshgrid(t_bc, X1_bc, X2_bc, X3_bc, indexing='ij')\n",
    "\n",
    "x1_points = np.stack([T.ravel(), X1.ravel(), X2.ravel(), X3.ravel()], axis=-1)\n",
    "X_bc_dim4 = x1_points[:,1:]\n",
    "y_bc = solution_func(*x1_points.T).reshape(-1, 1)\n",
    "dim3_traversal = new_traversal\n",
    "opti_x3expr = opti_nxexpr(dim3_traversal, x1_points, y_bc)\n",
    "consts = np.ones(x1_points.shape[0])\n",
    "res = least_squares(opti_x3expr, consts, method='lm')\n",
    "y_bc_dim4 = res.x.reshape(-1,1)"
   ]
  },
  {
   "cell_type": "code",
   "execution_count": 18,
   "metadata": {},
   "outputs": [
    {
     "name": "stdout",
     "output_type": "stream",
     "text": [
      "Saved Trainer state to models/3dwave_x3_model/trainer.json.\n",
      "x3 model successfully saved\n",
      "x3 traversal successfully saved\n"
     ]
    }
   ],
   "source": [
    "X_input = [None, X_bc_dim4]\n",
    "y_input = [None, y_bc_dim4]\n",
    "LOG_PATH = 'logs/3dwave_x3.log'\n",
    "config_file = 'configs/config_wave3d.json'\n",
    "if os.path.exists(LOG_PATH):\n",
    "    os.remove(LOG_PATH)\n",
    "x3_traversal, x3_expr, x3_model = solve_single_var(X_input, y_input, \n",
    "                                                3, config_file, log_path=LOG_PATH)\n",
    "x3_model.save('models/3dwave_x3_model')\n",
    "print('x3 model successfully saved')\n",
    "with open('models/3dwave_x3_traversal.pkl', 'wb') as f:\n",
    "    pickle.dump(x3_traversal, f)\n",
    "print('x3 traversal successfully saved')"
   ]
  },
  {
   "cell_type": "markdown",
   "metadata": {},
   "source": [
    "## CFS of 3d nolinear wave equation"
   ]
  },
  {
   "cell_type": "code",
   "execution_count": 9,
   "metadata": {},
   "outputs": [
    {
     "name": "stdout",
     "output_type": "stream",
     "text": [
      "Identified solution: exp(-0.5*t + 1.0*x1**2 + x3**2)*cos(x2)**1.0\n"
     ]
    }
   ],
   "source": [
    "with open(f'models/3dwave_dim3_traversal.pkl', 'rb') as f:\n",
    "    dim3_traversal = pickle.load(f)\n",
    "with open(f'models/3dwave_x3_traversal.pkl', 'rb') as f:\n",
    "    x3_traversal = pickle.load(f)\n",
    "new_traversal = replace_nxexpr([dim3_traversal, x3_traversal])\n",
    "\n",
    "for token in new_traversal:\n",
    "    if token.input_var is not None:\n",
    "        if token.name[0] == 'x':\n",
    "            token.input_var = int(token.name[1])\n",
    "    if token.name == 'const':\n",
    "        token.parse_value()\n",
    "\n",
    "test_p = Program()\n",
    "test_p.traversal = new_traversal\n",
    "sym_expr = sp.simplify(sp.N(sp.expand(sp.sympify(test_p.sympy_expr)),4))\n",
    "print(f'Identified solution: {sym_expr}')"
   ]
  }
 ],
 "metadata": {
  "kernelspec": {
   "display_name": "SymPDE",
   "language": "python",
   "name": "python3"
  },
  "language_info": {
   "codemirror_mode": {
    "name": "ipython",
    "version": 3
   },
   "file_extension": ".py",
   "mimetype": "text/x-python",
   "name": "python",
   "nbconvert_exporter": "python",
   "pygments_lexer": "ipython3",
   "version": "3.7.12"
  }
 },
 "nbformat": 4,
 "nbformat_minor": 2
}
