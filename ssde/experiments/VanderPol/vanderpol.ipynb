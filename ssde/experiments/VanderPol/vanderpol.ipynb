{
 "cells": [
  {
   "cell_type": "markdown",
   "metadata": {},
   "source": [
    "# <span style=\"background: linear-gradient(135deg,#fce38a,#f38181); -webkit-background-clip: text; color: transparent;font-weight: bold; font-style: italic; font-size: 32pt;\">Ordinary Differential Equations Tests</span>"
   ]
  },
  {
   "cell_type": "markdown",
   "metadata": {},
   "source": [
    "## <span style=\"background: linear-gradient(135deg,#f54ea2,#ff7676); -webkit-background-clip: text; color: transparent;font-weight: bold; font-style: italic; font-size: 24pt;\">Harmonic Oscillator  Equation</span>\n",
    "\n",
    "Given the deterministic conditions:\n",
    "\n",
    "$$\n",
    "\\frac{\\partial^2 u}{\\partial x^2} + u = 0\\\\\n",
    "u(0) = 0, u(1) = 1\n",
    "$$"
   ]
  },
  {
   "cell_type": "markdown",
   "metadata": {},
   "source": [
    "### Data Generation\n",
    "\n",
    "Get the `X_input` points by sampling randomly on the computational domain. The computational domain is defined by the interval $[0, 1]$ for the variable $x$. The `y_input` is defined as the value of source term $f(x)$ at the corresponding `X_input` point(i.e. equal to 0) and the boundary condition $u(0) = 0$ or $u(1) = 0$. \n",
    "\n",
    "Note that in this process, we do not need to know the exact solution of the equation. The `Ground Truth` is used to evaluate the performance of the model."
   ]
  },
  {
   "cell_type": "code",
   "execution_count": 1,
   "metadata": {},
   "outputs": [
    {
     "name": "stdout",
     "output_type": "stream",
     "text": [
      "real_params:['x']\n",
      "source:0\n"
     ]
    }
   ],
   "source": [
    "import numpy as np\n",
    "import sympy as sp\n",
    "\n",
    "\n",
    "def calculate_source(solution):\n",
    "    ''' Calculate the source term of the PDE '''\n",
    "    # solution: sympy expr of the solution\n",
    "    real_params = dict()\n",
    "    for symbol in sp.preorder_traversal(solution):\n",
    "        if isinstance(symbol, sp.Symbol):\n",
    "            exec('%s = sp.Symbol(\"%s\")' % (symbol.name, symbol.name))\n",
    "            if symbol.name not in real_params:\n",
    "                real_params[symbol.name] = None\n",
    "    real_params = sorted(list(real_params.keys()))\n",
    "    print(f'real_params:{real_params}')\n",
    "    source = 0\n",
    "    for i in real_params:\n",
    "        source += sp.diff(solution, i, 2)\n",
    "    source = source + solution\n",
    "    print(f'source:{source}')\n",
    "    solution_func = sp.lambdify(real_params, solution, modules='numpy')\n",
    "    if source == 0:\n",
    "        source_func = lambda *args: np.zeros_like(args[0])\n",
    "    else:\n",
    "        source_func = sp.lambdify(real_params, source, modules='numpy')\n",
    "    return solution_func, source_func, real_params\n",
    "\n",
    "# Validating the solution and the source term\n",
    "GROUND_TRUTH = sp.sympify('sin(x)/sin(1)')\n",
    "solution_func, source_func, real_params = calculate_source(GROUND_TRUTH)\n"
   ]
  },
  {
   "cell_type": "code",
   "execution_count": 2,
   "metadata": {},
   "outputs": [],
   "source": [
    "np.random.seed(100)\n",
    "LEFT_BC, RIGHT_BC = 0, 1\n",
    "N_SAMPLES = 20 # collect n_samples points in the domain\n",
    "N_BOUNDARY = 20 # collect n_boundary points on the boundary\n",
    "\n",
    "n_vars = len(real_params)\n",
    "X = np.random.uniform(LEFT_BC, RIGHT_BC, (N_SAMPLES, n_vars))\n",
    "X_bc = np.array([[LEFT_BC],[RIGHT_BC]])\n",
    "assert X_bc.shape == (2, n_vars)\n",
    "X_combine = np.concatenate([X, X_bc], axis=0)\n",
    "assert X_combine.shape == (N_SAMPLES+2, n_vars)\n",
    "y = source_func(*X_combine.T).reshape(-1, 1)\n",
    "y_bc = solution_func(*X_bc.T).reshape(-1, 1)\n",
    "\n",
    "X_input = [X, X_bc]\n",
    "y_input = [y, y_bc] # bc points are computed twice in y and y_bc\n",
    "\n",
    "test_X = np.random.uniform(LEFT_BC, RIGHT_BC, (N_SAMPLES, n_vars))\n",
    "test_y = solution_func(*test_X.T).reshape(-1, 1)"
   ]
  },
  {
   "cell_type": "markdown",
   "metadata": {},
   "source": [
    "### Reinforcement Learning \n",
    "\n",
    "We use single RL method to solve the ODE with closed form solution. Here we define the equation in the `pde.py` file. and use the configuration file `config_haros` to define the hyperparameters of the model."
   ]
  },
  {
   "cell_type": "code",
   "execution_count": 3,
   "metadata": {},
   "outputs": [
    {
     "name": "stderr",
     "output_type": "stream",
     "text": [
      "/home/weishu/.conda/envs/ssde/lib/python3.6/site-packages/tqdm/auto.py:22: TqdmWarning: IProgress not found. Please update jupyter and ipywidgets. See https://ipywidgets.readthedocs.io/en/stable/user_install.html\n",
      "  from .autonotebook import tqdm as notebook_tqdm\n"
     ]
    }
   ],
   "source": [
    "import logging\n",
    "import time\n",
    "from ssde import PDESymbolicSolver\n",
    "\n",
    "# configure logging\n",
    "logging.basicConfig(filename='haros.log', level=logging.INFO, \n",
    "                    format='%(asctime)s - %(levelname)s - %(message)s')\n",
    "logger = logging.getLogger()\n",
    "\n",
    "# redirect output to logger\n",
    "class RedirectOutput:\n",
    "    def __init__(self, logger):\n",
    "        self.logger = logger\n",
    "\n",
    "    def write(self, message):\n",
    "        if message.strip() != \"\":\n",
    "            self.logger.info(message)\n",
    "\n",
    "    def flush(self):\n",
    "        pass\n",
    "\n",
    "import sys\n",
    "sys.stdout = RedirectOutput(logger)\n",
    "sys.stderr = RedirectOutput(logger)\n",
    "\n",
    "model = PDESymbolicSolver(\"./config/config_haros.json\")\n",
    "start_time = time.time()\n",
    "model.fit(X_input, y_input) # Should solve in ~10 hours\n",
    "print(model.program_.pretty())\n",
    "print('Using time(s):', time.time()-start_time)\n"
   ]
  },
  {
   "cell_type": "markdown",
   "metadata": {},
   "source": [
    "## <span style=\"background: linear-gradient(135deg,#f54ea2,#ff7676); -webkit-background-clip: text; color: transparent;font-weight: bold; font-style: italic; font-size: 24pt;\">Van der Por Equation</span>\n",
    "\n",
    "Given the deterministic conditions:\n",
    "\n",
    "$$  \n",
    "\\frac{\\partial^2 u}{\\partial x^2} - (1-u^2) \\frac{\\partial u}{\\partial x} + u = 0\\\\\n",
    "u(0) = 0, u(1) = 1\n",
    "$$"
   ]
  },
  {
   "cell_type": "markdown",
   "metadata": {},
   "source": [
    "### Numerical solution & Data Generation\n",
    "\n",
    "We use the `PINN` method to visualize the solution on the points sampled from the computational domain randomly. \n",
    "\n",
    "Note that we do not use the numerical solution as the reward function of reinforcement learning here. The exact computation process of the numerical solution can be found in the [`numerical_solver.ipynb`](./numerical/numerical_solver.ipynb) file."
   ]
  },
  {
   "cell_type": "code",
   "execution_count": 1,
   "metadata": {
    "notebookRunGroups": {
     "groupValue": "1"
    }
   },
   "outputs": [
    {
     "name": "stderr",
     "output_type": "stream",
     "text": [
      "/home/weishu/.conda/envs/ssde/lib/python3.6/site-packages/tqdm/auto.py:22: TqdmWarning: IProgress not found. Please update jupyter and ipywidgets. See https://ipywidgets.readthedocs.io/en/stable/user_install.html\n",
      "  from .autonotebook import tqdm as notebook_tqdm\n"
     ]
    },
    {
     "data": {
      "image/png": "[encoded data removed]",
      "text/plain": [
       "<Figure size 432x288 with 1 Axes>"
      ]
     },
     "metadata": {
      "needs_background": "light"
     },
     "output_type": "display_data"
    }
   ],
   "source": [
    "import numpy as np\n",
    "import torch\n",
    "import matplotlib.pyplot as plt\n",
    "from vanderpol_num import PINNSolver, FDMSolver\n",
    "\n",
    "np.random.seed(100)\n",
    "MU = 1\n",
    "LEFT_BC, RIGHT_BC = 0, 1\n",
    "N_SAMPLES = 20 # collect n_samples points in the domain\n",
    "N_BOUNDARY = 20 # collect n_boundary points on the boundary\n",
    "\n",
    "X = np.random.uniform(LEFT_BC, RIGHT_BC, (N_SAMPLES, 1))\n",
    "X_bc = np.array([[LEFT_BC],[RIGHT_BC]])\n",
    "assert X_bc.shape == (2, 1)\n",
    "X_combine = np.concatenate([X, X_bc], axis=0)\n",
    "assert X_combine.shape == (N_SAMPLES+2, 1)\n",
    "y_bc = np.array([[0],[1]])\n",
    "y = np.zeros_like(X_combine)\n",
    "X_input = [X, X_bc]\n",
    "y_input = [y, y_bc] # bc points are computed twice in y and y_bc\n",
    "\n",
    "\n",
    "num_model = PINNSolver()\n",
    "numerical_sol = num_model(torch.tensor(X, dtype=torch.float32)).cpu().detach().numpy()\n",
    "plt.plot(X, numerical_sol, 'o', label='numerical solution')\n",
    "plt.legend()\n",
    "plt.show()"
   ]
  },
  {
   "cell_type": "markdown",
   "metadata": {},
   "source": [
    "### Reinforcement Learning\n",
    "\n",
    "We use single RL method to solve the ODE with a non-linear term that causes it doesn't have a closed form solution. Here we define the equation in the `pde.py` file. and use the configuration file `config_haros` to define the hyperparameters of the model."
   ]
  },
  {
   "cell_type": "code",
   "execution_count": 2,
   "metadata": {},
   "outputs": [],
   "source": [
    "import logging\n",
    "import time\n",
    "from ssde import PDESymbolicSolver\n",
    "\n",
    "# configure logging\n",
    "logging.basicConfig(filename='./varderpol.log', level=logging.INFO, \n",
    "                    format='%(asctime)s - %(levelname)s - %(message)s')\n",
    "logger = logging.getLogger()\n",
    "\n",
    "# redirect output to logger\n",
    "class RedirectOutput:\n",
    "    def __init__(self, logger):\n",
    "        self.logger = logger\n",
    "\n",
    "    def write(self, message):\n",
    "        if message.strip() != \"\":\n",
    "            self.logger.info(message)\n",
    "\n",
    "    def flush(self):\n",
    "        pass\n",
    "\n",
    "import sys\n",
    "sys.stdout = RedirectOutput(logger)\n",
    "sys.stderr = RedirectOutput(logger)\n",
    "\n",
    "model = PDESymbolicSolver(\"./config/config_vanderpol.json\")\n",
    "start_time = time.time()\n",
    "model.fit(X_input, y_input) # Should solve in ~10 hours\n",
    "print(model.program_.pretty())\n",
    "print(model.program_.sympy_expr)\n",
    "print('Using time(s):', time.time()-start_time)"
   ]
  },
  {
   "cell_type": "markdown",
   "metadata": {},
   "source": [
    "### Evaluation\n",
    "\n",
    "We use `SymPy` to get the symbol residual of the identified closed-form solution.  Then evaluate the closed-form solution on the grid points sampled from the computational domain with numerical solution got from the `FD` method."
   ]
  },
  {
   "cell_type": "code",
   "execution_count": 1,
   "metadata": {
    "notebookRunGroups": {
     "groupValue": "1"
    }
   },
   "outputs": [
    {
     "name": "stdout",
     "output_type": "stream",
     "text": [
      "real_params:['x1']\n",
      "source:-(1 - 0.0955907396852859*(x1 + sin(x1))**2/(1 - 0.435742910288552*cos(x1 - 1.1396402))**2)*((0.70954114*cos(x1) + 0.70954114)/(2.2949312 - cos(x1 - 1.1396402)) - 0.189871883866737*(0.70954114*x1 + 0.70954114*sin(x1))*sin(x1 - 1.1396402)/(1 - 0.435742910288552*cos(x1 - 1.1396402))**2) - 0.70954114*(x1 + sin(x1))*(0.189871883866737*cos(x1 - 1.1396402) + 0.165470654516124*sin(x1 - 1.1396402)**2/(0.435742910288552*cos(x1 - 1.1396402) - 1))/(0.435742910288552*cos(x1 - 1.1396402) - 1)**2 - 0.269443825865505*(cos(x1) + 1)*sin(x1 - 1.1396402)/(0.435742910288552*cos(x1 - 1.1396402) - 1)**2 + 0.70954114*sin(x1)/(cos(x1 - 1.1396402) - 2.2949312) + (0.70954114*x1 + 0.70954114*sin(x1))/(2.2949312 - cos(x1 - 1.1396402))\n"
     ]
    }
   ],
   "source": [
    "import sympy as sp\n",
    "def calculate_source(solution):\n",
    "    ''' Calculate the source term of the PDE '''\n",
    "    # solution: sympy expr of the solution\n",
    "    real_params = dict()\n",
    "    for symbol in sp.preorder_traversal(solution):\n",
    "        if isinstance(symbol, sp.Symbol):\n",
    "            exec('%s = sp.Symbol(\"%s\")' % (symbol.name, symbol.name))\n",
    "            if symbol.name not in real_params:\n",
    "                real_params[symbol.name] = None\n",
    "    real_params = sorted(list(real_params.keys()))\n",
    "    print(f'real_params:{real_params}')\n",
    "    source = sp.diff(solution, real_params[0], 2) + solution -  (1-solution**2) * sp.diff(solution, real_params[0])\n",
    "    print(f'source:{source}')\n",
    "    solution_func = sp.lambdify(real_params, solution, modules='numpy')\n",
    "    if source == 0:\n",
    "        source_func = lambda *args: np.zeros_like(args[0])\n",
    "    else:\n",
    "        source_func = sp.lambdify(real_params, source, modules='numpy')\n",
    "    return solution_func, source_func, real_params\n",
    "\n",
    "# identified solution\n",
    "# cfs = model.program_.sympy_expr\n",
    "cfs =  sp.sympify(\"(0.70954114*x1 + 0.70954114*sin(x1))/(2.2949312 - cos(x1 - 1.1396402))\")\n",
    "cfs = sp.sympify(\"x1\")\n",
    "\n",
    "# calculate the source term\n",
    "solution_func, source_func, real_params = calculate_source(cfs)"
   ]
  },
  {
   "cell_type": "markdown",
   "metadata": {},
   "source": [
    "We set the numerical solution got from the `FD` method as the `Ground Truth` whose source residual is `2.18e-13`. And test the cfs found by `DESIRE` on the same grid points. The source residual of the cfs is `1.16e-05`. Compared with the `Ground Truth`, the mse of solution found by `DESIRE` method is `2.59e-5`, while the mse of the PINN method is `2.87e-05`."
   ]
  },
  {
   "cell_type": "code",
   "execution_count": 10,
   "metadata": {},
   "outputs": [
    {
     "name": "stderr",
     "output_type": "stream",
     "text": [
      "Newton iterations:   1%|          | 11/1000 [00:00<00:03, 307.19it/s]"
     ]
    },
    {
     "name": "stdout",
     "output_type": "stream",
     "text": [
      "Converged after 12 iterations\n",
      "MSE of PDE (FDM): 2.1881887069119893e-13\n",
      "MSE of PDE (DESIRE): 5.090678214188506e-05\n",
      "L_phy:0.008183290711262128\n"
     ]
    },
    {
     "name": "stderr",
     "output_type": "stream",
     "text": [
      "\n"
     ]
    }
   ],
   "source": [
    "import numpy as np\n",
    "from vanderpol_num import PINNSolver, FDMSolver\n",
    "import torch\n",
    "X_test = np.linspace(0, 1, 100).reshape(-1, 1)\n",
    "y_pred = solution_func(*X_test.T).reshape(-1, 1)\n",
    "num_model = PINNSolver()\n",
    "y_pinn = num_model(torch.tensor(X_test, dtype=torch.float32)).cpu().detach().numpy()\n",
    "solver = FDMSolver(n_points=101, mu=1)\n",
    "y_fdm, r = solver.solve(max_iter=1000)\n",
    "y_fdm = y_fdm[1:].reshape(-1, 1)\n",
    "print('MSE of PDE (FDM):', r)\n",
    "# source residual\n",
    "pred_source = source_func(*X_test.T).reshape(-1, 1)\n",
    "print('MSE of PDE (DESIRE):', np.mean(pred_source**2))\n",
    "pde_loss = np.mean(pred_source**2)\n",
    "X_bc = np.array([[0],[1]])\n",
    "bc_s = solution_func(*X_bc.T).reshape(-1,1)\n",
    "y_bc = np.array([[0],[1]])\n",
    "bc_loss = np.mean((y_bc-bc_s)**2)\n",
    "L_phy = np.mean(np.sqrt(bc_loss) + np.sqrt(pde_loss))\n",
    "print(f'L_phy:{L_phy}')"
   ]
  },
  {
   "cell_type": "code",
   "execution_count": null,
   "metadata": {},
   "outputs": [],
   "source": [
    "print('MSE of Solution (DESIRE):', np.mean((y_pred - y_fdm)**2))\n",
    "print('MSE of Solution (PINN):', np.mean((y_pinn - y_fdm)**2))\n",
    "plt.plot(X_test, y_pred, \"o\", label='identified solution')\n",
    "plt.plot(X_test, y_pinn,\"o\", label='PINN')\n",
    "plt.plot(X_test, y_fdm,\"o\", label='FDM(Ground Truth)')\n",
    "plt.legend()\n",
    "plt.show()"
   ]
  }
 ],
 "metadata": {
  "kernelspec": {
   "display_name": "ssde",
   "language": "python",
   "name": "ssde"
  },
  "language_info": {
   "codemirror_mode": {
    "name": "ipython",
    "version": 3
   },
   "file_extension": ".py",
   "mimetype": "text/x-python",
   "name": "python",
   "nbconvert_exporter": "python",
   "pygments_lexer": "ipython3",
   "version": "3.6.13"
  }
 },
 "nbformat": 4,
 "nbformat_minor": 2
}
