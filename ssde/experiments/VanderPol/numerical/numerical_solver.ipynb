{
 "cells": [
  {
   "cell_type": "markdown",
   "metadata": {},
   "source": [
    "# <span style=\"background: linear-gradient(135deg,#fce38a,#f38181); -webkit-background-clip: text; color: transparent;font-weight: bold; font-style: italic; font-size: 32pt;\">Numerical Solver</span>"
   ]
  },
  {
   "cell_type": "markdown",
   "metadata": {},
   "source": [
    "## <span style=\"background: linear-gradient(135deg,#f54ea2,#ff7676); -webkit-background-clip: text; color: transparent;font-weight: bold; font-style: italic; font-size: 24pt;\">FDM</span>"
   ]
  },
  {
   "cell_type": "code",
   "execution_count": 1,
   "metadata": {},
   "outputs": [
    {
     "name": "stderr",
     "output_type": "stream",
     "text": [
      "Newton iterations:   1%|          | 11/1000 [00:02<03:53,  4.23it/s]"
     ]
    },
    {
     "name": "stdout",
     "output_type": "stream",
     "text": [
      "Converged after 12 iterations\n",
      "MSE: 2.2332931330941473e-13\n"
     ]
    },
    {
     "name": "stderr",
     "output_type": "stream",
     "text": [
      "\n"
     ]
    }
   ],
   "source": [
    "import numpy as np\n",
    "import matplotlib.pyplot as plt\n",
    "from tqdm import tqdm\n",
    "\n",
    "class FDMSolver:\n",
    "    def __init__(self, n_points=101, mu=1.0):\n",
    "        self.n_points = n_points\n",
    "        self.mu = mu\n",
    "        self.x = np.linspace(0, 1, n_points)\n",
    "        self.dx = 1.0 / (n_points - 1)\n",
    "        self.u = np.linspace(0, 1, n_points) \n",
    "    def compute_residual(self, u):\n",
    "        d2u_dx2 = np.zeros_like(u)\n",
    "        du_dx = np.zeros_like(u)\n",
    "        d2u_dx2[1:-1] = (u[2:] - 2*u[1:-1] + u[:-2]) / (self.dx**2)\n",
    "        du_dx[1:-1] = (u[2:] - u[:-2]) / (2*self.dx)\n",
    "        residual = d2u_dx2 - self.mu * (1 - u**2) * du_dx + u\n",
    "        residual[0] = u[0] - 0  \n",
    "        residual[-1] = u[-1] - 1  \n",
    "        return residual\n",
    "    \n",
    "    def compute_jacobian(self, u):\n",
    "        n = len(u)\n",
    "        J = np.zeros((n, n))\n",
    "        for i in range(1, n-1):\n",
    "            J[i, i-1] = 1.0 / (self.dx**2)\n",
    "            J[i, i] = -2.0 / (self.dx**2)\n",
    "            J[i, i+1] = 1.0 / (self.dx**2)\n",
    "            J[i, i] += 1.0  \n",
    "            J[i, i] += self.mu * 2 * u[i] * (u[i+1] - u[i-1]) / (2*self.dx)\n",
    "            J[i, i-1] += -self.mu * (1 - u[i]**2) / (2*self.dx)\n",
    "            J[i, i+1] += self.mu * (1 - u[i]**2) / (2*self.dx)\n",
    "        J[0, 0] = 1.0\n",
    "        J[-1, -1] = 1.0\n",
    "        \n",
    "        return J\n",
    "    \n",
    "    def solve(self, max_iter=50, tol=1e-6):\n",
    "        u = self.u.copy()\n",
    "        \n",
    "        for iter in tqdm(range(max_iter), desc=\"Newton iterations\"):\n",
    "            r = self.compute_residual(u)\n",
    "            if np.max(np.abs(r)) < tol:\n",
    "                print(f\"Converged after {iter+1} iterations\")\n",
    "                break\n",
    "            J = self.compute_jacobian(u)\n",
    "            du = np.linalg.solve(J, -r)\n",
    "            u += du\n",
    "            \n",
    "        self.u = u\n",
    "        return u, np.mean(r**2)\n",
    "    \n",
    "    def plot_solution(self):\n",
    "        plt.figure(figsize=(10, 6))\n",
    "        plt.plot(self.x, self.u, 'r-', linewidth=2, label='Numerical solution')\n",
    "        plt.plot(self.x, np.sin(self.x)/np.sin(1), 'r-', linewidth=2, label='Exact solution', alpha=0.5)\n",
    "        plt.xlabel('x')\n",
    "        plt.ylabel('u')\n",
    "        plt.title(f'FDM solution with μ={self.mu}')\n",
    "        plt.grid(True)\n",
    "        plt.legend()\n",
    "        plt.savefig('fdm_solution.png', dpi=300, bbox_inches='tight')\n",
    "        plt.close()\n",
    "        \n",
    "if __name__ == \"__main__\":\n",
    "    solver = FDMSolver(n_points=1001, mu=1)\n",
    "    u_fdm, r = solver.solve(max_iter=1000)\n",
    "    print(f\"MSE: {r}\")\n",
    "    # save the solution\n",
    "    np.savetxt('../../../data/fdm_vanderpol_sol.csv', np.vstack((solver.x, u_fdm)).T,delimiter=\",\", comments=\"\", fmt=\"%.6f\")"
   ]
  },
  {
   "cell_type": "markdown",
   "metadata": {},
   "source": [
    "## <span style=\"background: linear-gradient(135deg,#f54ea2,#ff7676); -webkit-background-clip: text; color: transparent;font-weight: bold; font-style: italic; font-size: 24pt;\">PINN</span>"
   ]
  },
  {
   "cell_type": "markdown",
   "metadata": {},
   "source": [
    "### Train step "
   ]
  },
  {
   "cell_type": "code",
   "execution_count": 2,
   "metadata": {},
   "outputs": [
    {
     "name": "stderr",
     "output_type": "stream",
     "text": [
      "/home/weishu/.conda/envs/SymPDE/lib/python3.7/site-packages/tqdm/auto.py:21: TqdmWarning: IProgress not found. Please update jupyter and ipywidgets. See https://ipywidgets.readthedocs.io/en/stable/user_install.html\n",
      "  from .autonotebook import tqdm as notebook_tqdm\n"
     ]
    },
    {
     "name": "stdout",
     "output_type": "stream",
     "text": [
      "Epoch 1000, loss = 4.1866141486934794e-07\n",
      "Epoch 2000, loss = 4.810641662800208e-09\n"
     ]
    }
   ],
   "source": [
    "import torch\n",
    "import torch.nn as nn\n",
    "from ssde.pde import function_map\n",
    "import matplotlib.pyplot as plt\n",
    "import numpy as np\n",
    "\n",
    "mu_value = 1\n",
    "np.random.seed(0)\n",
    "torch.manual_seed(0)\n",
    "class vanderpol(nn.Module):\n",
    "    def __init__(self):\n",
    "        super(vanderpol, self).__init__()\n",
    "        self.fc1 = nn.Linear(1, 64)\n",
    "        self.fc2 = nn.Linear(64, 64)\n",
    "        self.fc3 = nn.Linear(64, 1)\n",
    "    def forward(self, x):\n",
    "        t = torch.tanh(self.fc1(x))\n",
    "        t = torch.tanh(self.fc2(t))\n",
    "        t = self.fc3(t)\n",
    "        return t * (1 - x) * x + x\n",
    "    \n",
    "# define the loss function\n",
    "def loss_fn(y_pred, x):\n",
    "    # embedding the boundary conditions\n",
    "    y_pred = function_map[\"van_der_pol\"](y_pred, x, mu=mu_value)\n",
    "    return torch.mean(y_pred**2)\n",
    "\n",
    "device = torch.device(\"cuda:2\" if torch.cuda.is_available() else \"cpu\")\n",
    "model = vanderpol().to(device)"
   ]
  },
  {
   "cell_type": "code",
   "execution_count": null,
   "metadata": {},
   "outputs": [],
   "source": [
    "# define the training function\n",
    "def train(model, x, epochs=1000, lr=0.01):\n",
    "    optimizer = torch.optim.Adam(model.parameters(), lr=lr)\n",
    "    for epoch in range(epochs):\n",
    "        optimizer.zero_grad()\n",
    "        y_pred = model(x)\n",
    "        loss = loss_fn(y_pred, x)\n",
    "        loss.backward()\n",
    "        optimizer.step()\n",
    "        if (epoch+1) % 1000 == 0:\n",
    "            print(f\"Epoch {epoch+1}, loss = {loss.item()}\")\n",
    "\n",
    "# train the model\n",
    "x = torch.linspace(0.0, 1.0, 1000).reshape(-1, 1).to(device)\n",
    "x.requires_grad = True\n",
    "train(model, x, epochs=2000, lr=0.01)\n",
    "# save the model\n",
    "torch.save(model.state_dict(), \"vanderpol.pth\")"
   ]
  },
  {
   "cell_type": "markdown",
   "metadata": {},
   "source": [
    "### Evaluation"
   ]
  },
  {
   "cell_type": "code",
   "execution_count": 6,
   "metadata": {},
   "outputs": [
    {
     "data": {
      "image/png": "[encoded data removed]",
      "text/plain": [
       "<Figure size 700x500 with 1 Axes>"
      ]
     },
     "metadata": {},
     "output_type": "display_data"
    }
   ],
   "source": [
    "# plot the solution\n",
    "# test\n",
    "import torch\n",
    "mu_value = 1\n",
    "sample_number = 1000\n",
    "test_x = np.linspace(0, 1, sample_number).reshape(-1, 1)\n",
    "test_x = torch.tensor(test_x, dtype=torch.float32).to(device)\n",
    "with torch.no_grad():\n",
    "    y_pred = model(test_x)\n",
    "    plt.figure(figsize=(7,5))\n",
    "    plt.plot(test_x.cpu().numpy(), y_pred.cpu().numpy(), \"o-\", label=\"Neural network solution\")\n",
    "    if mu_value == 0:\n",
    "        plt.plot(test_x.cpu().numpy(), np.sin(test_x.cpu().numpy())/np.sin(1), \"o-\", label=\"Exact solution\")\n",
    "    plt.plot(test_x.cpu().numpy(), u_fdm[1:], \"o-\", label=\"FDM solution\")\n",
    "    plt.xlabel(\"x\")\n",
    "    plt.ylabel(\"u(x)\")\n",
    "    plt.title(f\"Solution of PDE with mu={mu_value}\")\n",
    "    plt.legend()\n",
    "    plt.grid(True)\n",
    "    plt.show()"
   ]
  },
  {
   "cell_type": "code",
   "execution_count": null,
   "metadata": {},
   "outputs": [],
   "source": []
  }
 ],
 "metadata": {
  "kernelspec": {
   "display_name": "ssde",
   "language": "python",
   "name": "ssde"
  },
  "language_info": {
   "codemirror_mode": {
    "name": "ipython",
    "version": 3
   },
   "file_extension": ".py",
   "mimetype": "text/x-python",
   "name": "python",
   "nbconvert_exporter": "python",
   "pygments_lexer": "ipython3",
   "version": "3.6.13"
  }
 },
 "nbformat": 4,
 "nbformat_minor": 2
}
