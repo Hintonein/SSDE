{
 "cells": [
  {
   "cell_type": "markdown",
   "metadata": {},
   "source": [
    "# 2D Poisson Equation Solver\n",
    "\n",
    "We use the recursion based exploration policy to find the closed-form solution of 2d Poisson equation."
   ]
  },
  {
   "cell_type": "code",
   "execution_count": 1,
   "metadata": {
    "notebookRunGroups": {
     "groupValue": "1"
    }
   },
   "outputs": [
    {
     "name": "stdout",
     "output_type": "stream",
     "text": [
      "real_params:['x1', 'x2']\n",
      "source:2*(-2*x2**2*sin(x2**2) + cos(x2**2)) - sin(x1)\n"
     ]
    }
   ],
   "source": [
    "import numpy as np\n",
    "import pickle\n",
    "from ssde import PDERecursionSolver\n",
    "import sympy as sp\n",
    "from ssde.utils import rect\n",
    "\n",
    "# Generate some data on the bcs\n",
    "np.random.seed(10)\n",
    "\n",
    "real_expression_dict = {\n",
    "    'nguyen-9': \"sin(x1)+sin(x2**2)\",\n",
    "    'nguyen-10': \"2*sin(x1)*cos(x2)\",\n",
    "    'nguyen-11': \"x1**x2\",\n",
    "    'nguyen-12': \"x1**4 - x1**3 + 0.5 * x2**2 -x2\",\n",
    "    'jin-1': \"2.5*x1**4 - 1.3*x1**3 + 0.5*x2**2 - 1.7*x2\"\n",
    "}\n",
    "\n",
    "domain_dict = {\n",
    "    'nguyen-9': [0.5, 1.5],\n",
    "    'nguyen-10': [0.5, 1.5],\n",
    "    'nguyen-11': [0.5, 1.5],\n",
    "    'nguyen-12': [-1, 1],\n",
    "    'jin-1': [-1,1]\n",
    "}\n",
    "\n",
    "\n",
    "test_case = 'nguyen-9'\n",
    "solution = sp.sympify(real_expression_dict[test_case])\n",
    "left_bc, right_bc = domain_dict[test_case]\n",
    "\n",
    "def calculate_soure(solution):\n",
    "    ''' Calculate the source term of the PDE '''\n",
    "    # solution: sympy expr of the solution\n",
    "    real_params = dict()\n",
    "    for symbol in sp.preorder_traversal(solution):\n",
    "        if isinstance(symbol, sp.Symbol):\n",
    "            exec('%s = sp.Symbol(\"%s\")' % (symbol.name, symbol.name))\n",
    "            if symbol.name not in real_params:\n",
    "                real_params[symbol.name] = None\n",
    "    real_params = sorted(list(real_params.keys()))\n",
    "    print(f'real_params:{real_params}')\n",
    "    source = 0\n",
    "    for i in real_params:\n",
    "        source += sp.diff(solution, i, 2)\n",
    "    print(f'source:{source}')\n",
    "    solution_func = sp.lambdify(real_params, solution, modules='numpy')\n",
    "    source_func = sp.lambdify(real_params, source, modules='numpy')\n",
    "    return solution_func, source_func, real_params\n",
    "\n",
    "solution_func, source_func, real_params = calculate_soure(solution)"
   ]
  },
  {
   "cell_type": "markdown",
   "metadata": {},
   "source": [
    "## Expression of x1\n",
    "\n",
    "We first generate the 1D data for the 2D Poisson equation. It is only used to find the expression vs. x1 while x2 is viewed as parameters."
   ]
  },
  {
   "cell_type": "code",
   "execution_count": 2,
   "metadata": {},
   "outputs": [],
   "source": [
    "# The second-order derivative of x2 is calculated by finite difference with respect to the boundary conditions in the x2 direction\n",
    "# Then the first-order derivative of x1 in the boundary direction is derived.\n",
    "n_x1bc, n_x2_bc = 2, 51\n",
    "d_x2 = (right_bc - left_bc)/(n_x2_bc-1)\n",
    "X1_bc = np.array([left_bc,right_bc]).reshape(2,1)\n",
    "X2_bc_all = np.linspace(left_bc, right_bc, n_x2_bc).reshape(n_x2_bc,1)\n",
    "\n",
    "y_bc_all = []\n",
    "source_bc_all = []\n",
    "for i in X2_bc_all:\n",
    "    temp = np.tile(i, (n_x1bc, 1))\n",
    "    X_bc_temp = np.concatenate([X1_bc, temp], axis=1).transpose(1, 0)\n",
    "    y_bc_all.append(solution_func(*X_bc_temp).reshape(-1, 1))\n",
    "    source_bc_all.append(source_func(*X_bc_temp).reshape(-1, 1))\n",
    "X_bc1 = X1_bc\n",
    "y_bc_all = np.concatenate(y_bc_all, axis=1)\n",
    "source_bc_all = np.concatenate(source_bc_all, axis=1)\n",
    "# Convolution along the column direction calculates the second-order derivative of x2\n",
    "y_dx2_all = []\n",
    "for i in range(y_bc_all.shape[0]):\n",
    "    y_dx2_all.append(np.convolve(y_bc_all[0,:], [1, -2, 1], 'valid').reshape(1,-1)/d_x2**2)\n",
    "y_dx2_all = np.concatenate(y_dx2_all, axis=0)\n",
    "# Calculate the first derivative of x1\n",
    "y_dx1_all = source_bc_all[:,1:-1] - y_dx2_all\n",
    "# Randomly select 10 points from y_bc_all, with an index range of (1,49) for a total of 49 points\n",
    "n_samples = 10\n",
    "index = np.random.choice(np.arange(1,n_x2_bc-1), n_samples, replace=False)\n",
    "y_bc1 = np.concatenate([y_dx1_all[:,index-1],y_bc_all[:,index]], axis=0)"
   ]
  },
  {
   "cell_type": "code",
   "execution_count": 3,
   "metadata": {},
   "outputs": [
    {
     "name": "stdout",
     "output_type": "stream",
     "text": [
      "X_bc1: (2, 1)\n",
      "y_bc1: (4, 10)\n",
      "X_bc2: (10, 1)\n",
      "y_bc2:(10, 2)\n"
     ]
    }
   ],
   "source": [
    "n_x1bc, n_x2_bc = 10, 2\n",
    "X1_bc = np.random.uniform(left_bc, right_bc, (n_x1bc,1))\n",
    "X2_bc = np.array([left_bc,right_bc]).reshape(2,1)\n",
    "\n",
    "y_bc2 = []\n",
    "for i in X2_bc:\n",
    "    temp = np.tile(i, (n_x1bc, 1))\n",
    "    X_bc_temp = np.concatenate([X1_bc, temp], axis=1).transpose(1, 0)\n",
    "    y_bc2.append(solution_func(*X_bc_temp).reshape(-1, 1))\n",
    "X_bc2 = X1_bc\n",
    "y_bc2 = np.concatenate(y_bc2, axis=1)\n",
    "\n",
    "# Boundary conditions in the x2 direction, used for refine\n",
    "# the first half of the rows are  the obtained second-order differences of x1(on the border)\n",
    "# and the second half are directly values\n",
    "print(f'X_bc1: {X_bc1.shape}')\n",
    "print(f'y_bc1: {y_bc1.shape}')\n",
    "# Boundary conditions in the x1 direction, used for initial selection\n",
    "print(f'X_bc2: {X_bc2.shape}')\n",
    "print(f'y_bc2:{y_bc2.shape}')\n",
    "\n",
    "\n",
    "X_input = [X_bc1, X_bc2]\n",
    "y_input = [y_bc1, y_bc2]"
   ]
  },
  {
   "cell_type": "code",
   "execution_count": 4,
   "metadata": {},
   "outputs": [
    {
     "name": "stdout",
     "output_type": "stream",
     "text": [
      "Saved Trainer state to ./models/nguyen-9/poisson2d_x1_model/trainer.json.\n",
      "x1 model successfully saved!\n",
      "Successfully saved x1_traversal!\n"
     ]
    }
   ],
   "source": [
    "import time\n",
    "from ssde.utils import jupyter_logging\n",
    "import os\n",
    "if not os.path.exists(f'./logs/{test_case}'):\n",
    "    os.makedirs(f'./logs/{test_case}')\n",
    "if os.path.exists(f\"./logs/{test_case}/poisson2d_01.log\"):\n",
    "    os.remove(f\"./logs/{test_case}/poisson2d_01.log\")\n",
    "@jupyter_logging(f\"./logs/{test_case}/poisson2d_01.log\")\n",
    "def solve_pde(X_input, y_input):\n",
    "    x1_model = PDERecursionSolver(f\"./configs/{test_case}/config_poisson_gp.json\")\n",
    "    start_time = time.time()\n",
    "    config = x1_model.fit(X_input, y_input) # Should solve in ~10 hours\n",
    "    print(f'Time used(s): {time.time()-start_time}')\n",
    "    x1_traversal = config.program_.traversal\n",
    "    x1_exp = config.program_.sympy_expr\n",
    "    print('Identified var x1\\'s parametirc expression:')\n",
    "    print(x1_exp)\n",
    "    print('Identified var x1\\'s traversal:')\n",
    "    print(x1_traversal)\n",
    "    return x1_traversal, x1_exp, x1_model\n",
    "\n",
    "x1_traversal, x1_exp, x1_model = solve_pde(X_input, y_input)\n",
    "x1_model.save(f'./models/{test_case}/poisson2d_x1_model')\n",
    "print('x1 model successfully saved!')\n",
    "with open(f'./models/{test_case}/x1_traversal_poisson2d.pkl', 'wb') as f:\n",
    "    pickle.dump(x1_traversal, f)\n",
    "    print('Successfully saved x1_traversal!')\n"
   ]
  },
  {
   "cell_type": "markdown",
   "metadata": {},
   "source": [
    "## Expression of x2"
   ]
  },
  {
   "cell_type": "markdown",
   "metadata": {},
   "source": [
    "From the 1D expression, we can get the value of parameters expressed by `Nxexpr` using constants optimization with least squares method.\n",
    "And then we can use it to explore the expression of x2."
   ]
  },
  {
   "cell_type": "code",
   "execution_count": 5,
   "metadata": {
    "notebookRunGroups": {
     "groupValue": "1"
    }
   },
   "outputs": [
    {
     "name": "stdout",
     "output_type": "stream",
     "text": [
      "shape of y_boundary:(20, 1)\n",
      "Identified var x1's parametirc expression:\n",
      "Nxexpr + sin(x1)\n",
      "Shape of label vs. x2: (20, 1)\n"
     ]
    }
   ],
   "source": [
    "# optimize the constants in  x1_traversal to get the next parametric expression of x2\n",
    "# TBD: Using a network to substitute the optimization\n",
    "from scipy.optimize import least_squares\n",
    "from ssde.execute import cython_recursion_execute as ce\n",
    "from ssde.program import Program\n",
    "# Compute the value of const (actually the label of x2)\n",
    "n_boundary = 20\n",
    "X_bc = rect(xmin=[left_bc, left_bc],\n",
    "                    xmax=[right_bc, right_bc],\n",
    "                    n=n_boundary,\n",
    "                    method='uniform')\n",
    "y_bc = solution_func(*X_bc.T).reshape(-1, 1)\n",
    "print(f'shape of y_boundary:{y_bc.shape}')\n",
    "\n",
    "with open(f'./models/{test_case}/x1_traversal_poisson2d.pkl', 'rb') as f:\n",
    "    x1_traversal = pickle.load(f)\n",
    "test_p = Program()\n",
    "test_p.traversal = x1_traversal\n",
    "print(\"Identified var x1's parametirc expression:\")\n",
    "print(test_p.sympy_expr)\n",
    "\n",
    "def opti_consts(nxexpr):\n",
    "    for token in x1_traversal:\n",
    "        if token.name == 'Nxexpr':\n",
    "            token.value = nxexpr.reshape(-1,1)\n",
    "    y_bc_hat = ce(x1_traversal, X_bc)\n",
    "    return (y_bc_hat-y_bc).ravel()\n",
    "\n",
    "consts = np.ones(n_boundary)\n",
    "res = least_squares(opti_consts, consts, method='lm')\n",
    "# You can also test the optimization is correct or not\n",
    "# consts_real = (0.5 * X_bc[:,1]**2 - 1.7 * X_bc[:,1])\n",
    "# print('abs error:', np.abs(consts_real-res.x).mean())\n",
    "X_bc = X_bc\n",
    "y_bc = np.array(res.x, dtype=np.float64).reshape(-1,1)\n",
    "print(\"Shape of label vs. x2:\", y_bc.shape)"
   ]
  },
  {
   "cell_type": "code",
   "execution_count": 6,
   "metadata": {
    "notebookRunGroups": {
     "groupValue": "1"
    }
   },
   "outputs": [
    {
     "name": "stdout",
     "output_type": "stream",
     "text": [
      "Successfully saved x2_traversal!\n",
      "Saved Trainer state to ./models/nguyen-9/poisson2d_x2_model/trainer.json.\n"
     ]
    }
   ],
   "source": [
    "import time\n",
    "from ssde.utils import jupyter_logging\n",
    "\n",
    "# Fit the model\n",
    "if os.path.exists(f\"./logs/{test_case}/poisson2d_02.log\"):\n",
    "    os.remove(f\"./logs/{test_case}/poisson2d_02.log\")\n",
    "@jupyter_logging(f\"./logs/{test_case}/poisson2d_02.log\")\n",
    "def solve_pde_intervar(X_input, y_input, model=None):\n",
    "    start_time = time.time()\n",
    "    if model is not None:\n",
    "        x2_model = model\n",
    "    else:\n",
    "        x2_model = PDERecursionSolver(f\"./configs/{test_case}/config_poisson_gp.json\")\n",
    "    x2_model = x2_model.fit(X_input, y_input, start_n_var=2) # Should solve in ~10 hours\n",
    "    print(f'Time used(s): {time.time()-start_time}')\n",
    "    x2_traversal = x2_model.program_.traversal\n",
    "    x2_exp = x2_model.program_.sympy_expr\n",
    "    print('Identified var x2\\'s parametirc expression:')\n",
    "    print(x2_exp)\n",
    "    print('Identified var x2\\'s traversal:')\n",
    "    print(x2_traversal)\n",
    "    return x2_traversal, x2_exp, x2_model\n",
    "\n",
    "\n",
    "X_input = [None, X_bc]\n",
    "y_input = [None, y_bc]\n",
    "x2_traversal, x2_exp, x2_model = solve_pde_intervar(X_input, y_input)\n",
    "with open(f'./models/{test_case}/x2_traversal_poisson2d.pkl', 'wb') as f:\n",
    "    pickle.dump(x2_traversal, f)\n",
    "    print('Successfully saved x2_traversal!')\n",
    "x2_model.save(f'./models/{test_case}/poisson2d_x2_model')"
   ]
  },
  {
   "cell_type": "markdown",
   "metadata": {},
   "source": [
    "## Expression of x1 and x2\n",
    "\n",
    "Finally, we can get the closed-form solution of 2D Poisson equation with combined expression of x1 and x2. And we can refine the constants in the expression using the pde loss as the target."
   ]
  },
  {
   "cell_type": "code",
   "execution_count": 7,
   "metadata": {},
   "outputs": [
    {
     "name": "stdout",
     "output_type": "stream",
     "text": [
      "[add, sub, 1e-08, sin, mul, sub, sub, add, x2, mul, x2, div, sub, mul, x2, x2, x2, x2, x2, mul, x2, x2, x2, sin, mul, div, x1, x1, x1]\n"
     ]
    }
   ],
   "source": [
    "import pickle\n",
    "import torch\n",
    "with open(f'./models/{test_case}/x1_traversal_poisson2d.pkl', 'rb') as f:\n",
    "    x1_traversal = pickle.load(f)\n",
    "with open(f'./models/{test_case}/x2_traversal_poisson2d.pkl', 'rb') as f:\n",
    "    x2_traversal = pickle.load(f)\n",
    "# replace the nxexpr with x2_traversal\n",
    "new_traversal = []\n",
    "for token in x1_traversal:\n",
    "    if token.name == 'Nxexpr':\n",
    "        new_traversal.extend(x2_traversal)\n",
    "    else:\n",
    "        new_traversal.append(token)\n",
    "print(new_traversal)\n",
    "ini_consts = []\n",
    "for token in new_traversal:\n",
    "    if token.name == 'const':\n",
    "        ini_consts.append(token.value)\n",
    "ini_consts = [torch.tensor(i, requires_grad=True) for i in ini_consts]"
   ]
  },
  {
   "cell_type": "code",
   "execution_count": 8,
   "metadata": {},
   "outputs": [
    {
     "name": "stdout",
     "output_type": "stream",
     "text": [
      "Identified solution: sin(x1) + sin(x2**2)\n"
     ]
    }
   ],
   "source": [
    "# samples for the domain and boundary for refine\n",
    "n_samples, n_boundary = 100, 100\n",
    "X = np.random.uniform(left_bc, right_bc, (n_samples, 2))\n",
    "X_bc = rect(xmin=[left_bc, left_bc],\n",
    "         xmax=[right_bc, right_bc],\n",
    "         n=n_samples,\n",
    "         method='uniform')\n",
    "X_bc_temp = X_bc.transpose(1, 0)\n",
    "X_combine = np.concatenate([X, X_bc], axis=0)\n",
    "X_combine_torch = torch.tensor(X_combine, dtype=torch.float32, requires_grad=True)\n",
    "X_com_temp = X_combine.transpose(1, 0)\n",
    "y = source_func(*X_com_temp).reshape(-1, 1)\n",
    "y_bc = solution_func(*X_bc_temp).reshape(-1, 1)\n",
    "y_input = [y, y_bc]\n",
    "y_input_torch = [torch.tensor(i, dtype=torch.float32, requires_grad=True) for i in y_input]\n",
    "\n",
    "from ssde.const import make_const_optimizer\n",
    "from ssde.program import Program\n",
    "from ssde.execute import python_execute as pe\n",
    "from ssde.pde import function_map\n",
    "from ssde.task.recursion.recursion import make_regression_metric\n",
    "\n",
    "\n",
    "consts_index = [i for i in range(len(new_traversal)) if new_traversal[i].name == 'const']\n",
    "metric,_,_ = make_regression_metric(\"neg_smse_torch\", y_input)\n",
    "def pde_r(consts):\n",
    "    for i in range(len(consts)):\n",
    "        new_traversal[consts_index[i]].torch_value = consts[i]\n",
    "    y = pe(new_traversal, X_combine_torch)\n",
    "    f = function_map['poisson2d'](y, X_combine_torch)\n",
    "    y_hat = [f, y[-n_boundary:,0:1]]\n",
    "    r = metric(y_input_torch,y_hat)\n",
    "    obj = -r\n",
    "    return obj\n",
    "\n",
    "optimized_consts, smse = make_const_optimizer('torch')(pde_r, ini_consts)\n",
    "for i in new_traversal:\n",
    "    if i.name == 'const' or i.name == 'Nxexpr':\n",
    "        i.parse_value()\n",
    "test_p = Program()\n",
    "test_p.traversal = new_traversal\n",
    "sym_expr = sp.simplify(sp.N(sp.expand(sp.sympify(test_p.sympy_expr)),4))\n",
    "print(f'Identified solution: {sym_expr}')\n"
   ]
  }
 ],
 "metadata": {
  "kernelspec": {
   "display_name": "SymPDE",
   "language": "python",
   "name": "python3"
  },
  "language_info": {
   "codemirror_mode": {
    "name": "ipython",
    "version": 3
   },
   "file_extension": ".py",
   "mimetype": "text/x-python",
   "name": "python",
   "nbconvert_exporter": "python",
   "pygments_lexer": "ipython3",
   "version": "3.7.12"
  }
 },
 "nbformat": 4,
 "nbformat_minor": 2
}
