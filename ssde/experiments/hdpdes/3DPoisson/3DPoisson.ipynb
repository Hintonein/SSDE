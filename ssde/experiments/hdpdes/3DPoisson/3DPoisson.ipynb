{
 "cells": [
  {
   "cell_type": "markdown",
   "metadata": {},
   "source": [
    "# 3D Poisson Equation Solver\n",
    "\n",
    "This notebook solves the 3D Poisson equation using the recursive exploration policy."
   ]
  },
  {
   "cell_type": "code",
   "execution_count": 1,
   "metadata": {},
   "outputs": [
    {
     "name": "stdout",
     "output_type": "stream",
     "text": [
      "real_params:['x1', 'x2', 'x3']\n",
      "source:30.0*x1**2 - 7.8*x2 + 1.0\n"
     ]
    }
   ],
   "source": [
    "import os\n",
    "import time\n",
    "import torch\n",
    "import pickle\n",
    "import sympy as sp\n",
    "import numpy as np\n",
    "from scipy.optimize import least_squares\n",
    "from ssde import PDERecursionSolver\n",
    "from ssde.execute import cython_recursion_execute as ce\n",
    "from ssde.execute import python_execute as pe\n",
    "from ssde.program import Program\n",
    "from ssde.utils import jupyter_logging, cube\n",
    "from ssde.const import make_const_optimizer\n",
    "from ssde.pde import function_map\n",
    "from ssde.task.recursion.recursion import make_regression_metric\n",
    "\n",
    "\n",
    "np.random.seed(0)\n",
    "left_bc, right_bc = -1,1\n",
    "if not os.path.exists('logs'):\n",
    "    os.makedirs('logs')\n",
    "solution = sp.sympify(\"2.5*x1**4 - 1.3*x2**3 + 0.5*x3**2\")\n",
    "\n",
    "def calculate_source(solution):\n",
    "    ''' Calculate the source term of the PDE '''\n",
    "    # solution: sympy expr of the solution\n",
    "    real_params = dict()\n",
    "    for symbol in sp.preorder_traversal(solution):\n",
    "        if isinstance(symbol, sp.Symbol):\n",
    "            exec('%s = sp.Symbol(\"%s\")' % (symbol.name, symbol.name))\n",
    "            if symbol.name not in real_params:\n",
    "                real_params[symbol.name] = None\n",
    "    real_params = sorted(list(real_params.keys()))\n",
    "    print(f'real_params:{real_params}')\n",
    "    source = 0\n",
    "    for i in real_params:\n",
    "        source += sp.diff(solution, i, 2)\n",
    "    print(f'source:{source}')\n",
    "    solution_func = sp.lambdify(real_params, solution, modules='numpy')\n",
    "    source_func = sp.lambdify(real_params, source, modules='numpy')\n",
    "    return solution_func, source_func, real_params\n",
    "\n",
    "def replace_nxexpr(traversals, index=0, new_traversal=None):\n",
    "    \"\"\"\n",
    "    Replace Nxexpr in the traversal with the corresponding expression recursively.\n",
    "\n",
    "    Parameters\n",
    "    ----------\n",
    "    traversals : list\n",
    "        The list of traversal of the single variable.\n",
    "    index : int\n",
    "        The index of current traversal.\n",
    "    new_traversal : list\n",
    "        The result of the replacement.\n",
    "    \"\"\"\n",
    "    if new_traversal is None:\n",
    "        new_traversal = []\n",
    "\n",
    "    if index + 1 == len(traversals):\n",
    "        return new_traversal + traversals[index]\n",
    "    \n",
    "    current_ls = traversals[index]\n",
    "    for token in current_ls:\n",
    "        if token.name != 'Nxexpr':\n",
    "            new_traversal.append(token)\n",
    "        else:\n",
    "            sub_result = replace_nxexpr(traversals, index+1, [])\n",
    "            new_traversal.extend(sub_result)\n",
    "    return new_traversal\n",
    "\n",
    "@jupyter_logging(\"logs/single_var.log\")\n",
    "def solve_single_var(X_input, y_input, var_index, config_file):\n",
    "    model = PDERecursionSolver(config_file)\n",
    "    start_time = time.time()\n",
    "    config = model.fit(X_input, y_input, start_n_var=var_index)\n",
    "    print(f'Time used: {time.time()-start_time}')\n",
    "    traversal = config.program_.traversal\n",
    "    expr = config.program_.sympy_expr\n",
    "    print(f'Identified var x{var_index}\\'s parametirc expression:')\n",
    "    print(expr)\n",
    "    print(f'Identified var x{var_index}\\'s traversal:')\n",
    "    print(traversal)\n",
    "    return traversal, expr, model\n",
    "\n",
    "solution_func, source_func, real_params = calculate_source(solution)"
   ]
  },
  {
   "cell_type": "markdown",
   "metadata": {},
   "source": [
    "## Expression of `x1` "
   ]
  },
  {
   "cell_type": "markdown",
   "metadata": {},
   "source": [
    "The differential equation boundary conditions at this point include every face in the 3D square. The boundary condition for the x1 direction will be an infinite number of horizontal lines on the four faces parallel to the x1 axis."
   ]
  },
  {
   "cell_type": "code",
   "execution_count": 2,
   "metadata": {},
   "outputs": [
    {
     "name": "stdout",
     "output_type": "stream",
     "text": [
      "X_bc_x1:(10, 1), y_bc_x1:(10, 4)\n"
     ]
    }
   ],
   "source": [
    "# boundary conditions of x1 direction\n",
    "n_x1bc = 10\n",
    "n_x2bc = 2\n",
    "n_x3bc = 2\n",
    "X1_bc = np.random.uniform(left_bc, right_bc, (n_x1bc,1))\n",
    "X2_bc = np.array([left_bc,right_bc])\n",
    "X3_bc = np.random.uniform(left_bc, right_bc, (n_x3bc,))\n",
    "X23_bc = np.array([[i,j] for i in X2_bc for j in X3_bc])\n",
    "y_bc_x1 = []\n",
    "for i in X23_bc:\n",
    "    temp = np.tile(i, (n_x1bc, 1))\n",
    "    X_bc_temp = np.concatenate([X1_bc, temp], axis=1).transpose(1, 0)\n",
    "    y_bc_x1.append(solution_func(*X_bc_temp).reshape(-1, 1))\n",
    "X_bc_x1 = X1_bc\n",
    "y_bc_x1 = np.concatenate(y_bc_x1, axis=1)\n",
    "print(f'X_bc_x1:{X_bc_x1.shape}, y_bc_x1:{y_bc_x1.shape}')"
   ]
  },
  {
   "cell_type": "code",
   "execution_count": 3,
   "metadata": {},
   "outputs": [
    {
     "name": "stdout",
     "output_type": "stream",
     "text": [
      "X_bc_x23:(2, 1), y_bc_x23:(4, 10)\n"
     ]
    }
   ],
   "source": [
    "from scipy.signal import convolve2d\n",
    "# Get the derivative of the solution in the x1 direction as the constraint with finite difference versus the x2 and x3 direction\n",
    "n_x1bc = 2\n",
    "n_x23bc = 1001\n",
    "h = (right_bc - left_bc)/(n_x23bc-1)\n",
    "\n",
    "X1_bc = np.array([left_bc,right_bc])\n",
    "X2_bc_all = np.linspace(left_bc, right_bc, n_x23bc)\n",
    "X3_bc_all = np.linspace(left_bc, right_bc, n_x23bc)\n",
    "# u_yy + u_zz\n",
    "solution = solution_func(\n",
    "    *np.meshgrid(X1_bc, X2_bc_all,  X3_bc_all,indexing='ij'))\n",
    "\n",
    "laplacian_kernel_high_order = np.array([[0, 0, -1, 0, 0],\n",
    "                                        [0, 0, 16, 0, 0],\n",
    "                                        [-1, 16, -60, 16, -1],\n",
    "                                        [0, 0, 16, 0, 0],\n",
    "                                        [0, 0, -1, 0, 0]]) / (12 * h**2)\n",
    "\n",
    "laplacians_high_order = np.zeros((n_x1bc, n_x23bc-4, n_x23bc-4))\n",
    "for i in range(n_x1bc):\n",
    "    laplacians_high_order[i,:,:] = convolve2d(solution[i,:,:], laplacian_kernel_high_order, mode='valid')\n",
    "\n",
    "# Get u_xx\n",
    "source = source_func(\n",
    "    *np.meshgrid(X1_bc, X2_bc_all, X3_bc_all,indexing='ij')\n",
    ")\n",
    "solution_curtailed = solution[:,2:-2,2:-2]\n",
    "source_curtailed = source[:,2:-2,2:-2]\n",
    "u_bc_xx = source_curtailed - laplacians_high_order\n",
    "\n",
    "# random select 10 points on the left and right face\n",
    "n_bc_x23 = 10\n",
    "height = u_bc_xx.shape[1]\n",
    "width = u_bc_xx.shape[2]\n",
    "all_index_pairs = np.array(np.meshgrid(np.arange(height), np.arange(width))).T.reshape(-1, 2)\n",
    "random_indices = np.random.choice(all_index_pairs.shape[0], n_bc_x23, replace=False)\n",
    "random_point_indices = all_index_pairs[random_indices]\n",
    "# (n_x1bc, n_bc_x23)\n",
    "u_xx_bc_x23 = np.array([u_bc_xx[:, index[0], index[1]] for index in random_point_indices]).transpose(1,0)\n",
    "# (n_x1bc, n_bc_x23)\n",
    "u_bc_x23 = np.array([solution_curtailed[:, index[0], index[1]] for index in random_point_indices]).transpose(1,0)\n",
    "# (n_x1bc*2, n_bc_x23)\n",
    "X_bc_x23 = X1_bc.reshape(-1,1)\n",
    "y_bc_x23 = np.concatenate([u_xx_bc_x23, u_bc_x23], axis=0)\n",
    "print(f'X_bc_x23:{X_bc_x23.shape}, y_bc_x23:{y_bc_x23.shape}')\n",
    "X_input = [X_bc_x23, X_bc_x1]\n",
    "y_input = [y_bc_x23, y_bc_x1]"
   ]
  },
  {
   "cell_type": "code",
   "execution_count": 4,
   "metadata": {},
   "outputs": [
    {
     "name": "stdout",
     "output_type": "stream",
     "text": [
      "Saved Trainer state to models/3dpoisson_x1_model/trainer.json.\n",
      "x1 model successfully saved!\n",
      "x1 traversal successfully saved!\n"
     ]
    }
   ],
   "source": [
    "if os.path.exists('logs/3dpoisson_x1.log'):\n",
    "    os.remove('logs/3dpoisson_x1.log')\n",
    "config_file = 'configs/config_poisson_gp.json'\n",
    "LOG_PATH = 'logs/3dpoisson_x1.log'\n",
    "x1_traversal, x1_expr, x1_model = solve_single_var(X_input, y_input, \n",
    "                                                   1, config_file, log_path=LOG_PATH)\n",
    "x1_model.save('models/3dpoisson_x1_model')\n",
    "print('x1 model successfully saved!')\n",
    "with open('models/3dpoisson_x1_traversal.pkl', 'wb') as f:\n",
    "    pickle.dump(x1_traversal, f)\n",
    "print('x1 traversal successfully saved!')"
   ]
  },
  {
   "cell_type": "markdown",
   "metadata": {},
   "source": [
    "## Expression of `x_2`"
   ]
  },
  {
   "cell_type": "code",
   "execution_count": 4,
   "metadata": {},
   "outputs": [],
   "source": [
    "# Compute the value of const (actually the label of x2)\n",
    "n_x1bc = 1\n",
    "n_x2bc = 20\n",
    "n_x3bc = 5\n",
    "# We actually sample the points on the left and right faces, but assemble them into points related to x1, and then optimize nxexpr\n",
    "X1_bc = np.array([left_bc])\n",
    "X2_bc = np.linspace(left_bc, right_bc, n_x2bc).reshape(-1,1)\n",
    "X_bc_x2 = np.concatenate([X1_bc*np.ones((n_x2bc,1)), X2_bc], axis=1)\n",
    "X3_bc = np.random.uniform(left_bc, right_bc, (n_x3bc,))\n",
    "# compute the value of the solution at the boundary\n",
    "X1, X2, X3 = np.meshgrid(X1_bc, X2_bc, X3_bc, indexing='ij')\n",
    "x1_points = np.stack([X1.ravel(), X2.ravel(), X3.ravel()], axis=-1)\n",
    "y_bc = solution_func(*x1_points.T).reshape(-1, 1)"
   ]
  },
  {
   "cell_type": "code",
   "execution_count": 5,
   "metadata": {},
   "outputs": [
    {
     "name": "stdout",
     "output_type": "stream",
     "text": [
      "abs error: 1.5128523433993734e-16\n"
     ]
    }
   ],
   "source": [
    "with open('models/3dpoisson_x1_traversal.pkl', 'rb') as f:\n",
    "    x1_traversal = pickle.load(f)\n",
    "\n",
    "def opti_consts(nxexpr):\n",
    "    for token in x1_traversal:\n",
    "        if token.name == 'Nxexpr':\n",
    "            token.value = nxexpr.reshape(-1,1)\n",
    "    y_bc_hat = ce(x1_traversal, x1_points)\n",
    "   \n",
    "    return (y_bc_hat-y_bc).ravel()\n",
    "\n",
    "consts = np.ones(x1_points.shape[0])\n",
    "res = least_squares(opti_consts, consts, method='lm')\n",
    "y_bc_reshaped = res.x.reshape(n_x1bc, n_x2bc, n_x3bc,1)\n",
    "y_bc_transposed = y_bc_reshaped.transpose(1,0,2,3)\n",
    "y_bc_x2 = y_bc_transposed.reshape((n_x2bc, -1))\n",
    "# test optimization is correct or not\n",
    "# jin1\n",
    "consts_real = []\n",
    "for i in range(n_x3bc):\n",
    "    consts_real.append(-1.3 * X2_bc**3 + 0.5* X3_bc[i]**2)\n",
    "consts_real = np.concatenate(consts_real, axis=1)\n",
    "print('abs error:', np.abs(consts_real-y_bc_x2).mean())"
   ]
  },
  {
   "cell_type": "code",
   "execution_count": 6,
   "metadata": {},
   "outputs": [
    {
     "name": "stdout",
     "output_type": "stream",
     "text": [
      "Saved Trainer state to models/3dpoisson_x2_model/trainer.json.\n",
      "x2 model successfully saved!\n",
      "x2 traversal successfully saved!\n"
     ]
    }
   ],
   "source": [
    "X_input = [None, X_bc_x2]\n",
    "y_input = [None, y_bc_x2]\n",
    "\n",
    "if os.path.exists('logs/3dpoisson_x2.log'):\n",
    "    os.remove('logs/3dpoisson_x2.log')\n",
    "config_file = 'configs/config_poisson_gp.json'\n",
    "LOG_PATH = 'logs/3dpoisson_x2.log'\n",
    "x2_traversal, x2_expr, x2_model = solve_single_var(X_input, y_input, \n",
    "                                                   2, config_file, log_path=LOG_PATH)\n",
    "x2_model.save('models/3dpoisson_x2_model')\n",
    "print('x2 model successfully saved!')\n",
    "with open('models/3dpoisson_x2_traversal.pkl', 'wb') as f:\n",
    "    pickle.dump(x2_traversal, f)\n",
    "    print('x2 traversal successfully saved!')"
   ]
  },
  {
   "cell_type": "markdown",
   "metadata": {},
   "source": [
    "## Expression of `x_3` "
   ]
  },
  {
   "cell_type": "code",
   "execution_count": 7,
   "metadata": {},
   "outputs": [],
   "source": [
    "# Compute the value of const (actually the label of x2)\n",
    "n_x1bc = 1\n",
    "n_x2bc = 1\n",
    "n_x3bc = 20\n",
    "X1_bc = np.array([left_bc])\n",
    "X2_bc = np.array([left_bc])\n",
    "X3_bc = np.random.uniform(left_bc, right_bc, (n_x3bc,))\n",
    "X1, X2, X3 = np.meshgrid(X1_bc, X2_bc, X3_bc, indexing='ij')\n",
    "\n",
    "x1_points = np.stack([X1.ravel(), X2.ravel(), X3.ravel()], axis=-1)\n",
    "X_bc_x3 = x1_points\n",
    "# compute the value of the solution at the boundary\n",
    "y_bc = solution_func(*x1_points.T).reshape(-1, 1)"
   ]
  },
  {
   "cell_type": "code",
   "execution_count": 8,
   "metadata": {},
   "outputs": [],
   "source": [
    "with open('models/3dpoisson_x1_traversal.pkl', 'rb') as f:\n",
    "    x1_traversal = pickle.load(f)\n",
    "with open('models/3dpoisson_x2_traversal.pkl', 'rb') as f:\n",
    "    x2_traversal = pickle.load(f)\n",
    "\n",
    "        \n",
    "# replace the nxexpr with x2_traversal\n",
    "new_traversal = []\n",
    "for token in x1_traversal:\n",
    "    if token.name == 'Nxexpr':\n",
    "        new_traversal.extend(x2_traversal)\n",
    "    else:\n",
    "        new_traversal.append(token)\n",
    "\n",
    "\n",
    "def opti_consts(nxexpr):\n",
    "    for token in new_traversal:\n",
    "        if token.name == 'Nxexpr':\n",
    "            token.value = nxexpr.reshape(-1,1)\n",
    "    y_bc_hat = ce(new_traversal, x1_points)\n",
    "    return (y_bc_hat-y_bc).ravel()\n",
    "\n",
    "consts = np.ones(x1_points.shape[0])\n",
    "res = least_squares(opti_consts, consts, method='lm')\n",
    "\n",
    "y_bc_x3 = res.x.reshape(-1,1)\n",
    "# test optimization is correct or not\n",
    "# jin1\n",
    "# consts_real = (0.5* X3_bc**2).reshape(-1,1)\n",
    "# print('Abs error :', np.abs(consts_real-y_bc_x3).mean())"
   ]
  },
  {
   "cell_type": "code",
   "execution_count": 9,
   "metadata": {},
   "outputs": [
    {
     "name": "stdout",
     "output_type": "stream",
     "text": [
      "Saved Trainer state to models/3dpoisson_x3_model/trainer.json.\n",
      "x3 model successfully saved!\n",
      "x3 traversal successfully saved!\n"
     ]
    }
   ],
   "source": [
    "X_input = [None, X_bc_x3]\n",
    "y_input = [None, y_bc_x3]\n",
    "\n",
    "if os.path.exists('logs/3dpoisson_x3.log'):\n",
    "    os.remove('logs/3dpoisson_x3.log')\n",
    "config_file = 'configs/config_poisson_gp.json'\n",
    "LOG_PATH = 'logs/3dpoisson_x3.log'\n",
    "x3_traversal, x3_expr, x3_model = solve_single_var(X_input, y_input, \n",
    "                                                   3, config_file, log_path=LOG_PATH)\n",
    "x3_model.save('models/3dpoisson_x3_model')\n",
    "print('x3 model successfully saved!')\n",
    "with open('models/3dpoisson_x3_traversal.pkl', 'wb') as f:\n",
    "    pickle.dump(x3_traversal, f)\n",
    "    print('x3 traversal successfully saved!')"
   ]
  },
  {
   "cell_type": "markdown",
   "metadata": {},
   "source": [
    "## CFS of 3D Poisson Equation"
   ]
  },
  {
   "cell_type": "code",
   "execution_count": 2,
   "metadata": {},
   "outputs": [],
   "source": [
    "traversals = []\n",
    "for i in range(1,4):\n",
    "    with open(f'models/3dpoisson_x{i}_traversal.pkl', 'rb') as f:\n",
    "        traversals.append(pickle.load(f))\n",
    "new_traversal = replace_nxexpr(traversals)\n",
    "\n",
    "ini_consts = []\n",
    "for token in new_traversal:\n",
    "    if token.name == 'const':\n",
    "        ini_consts.append(token.value)\n",
    "ini_consts = [torch.tensor(i, requires_grad=True) for i in ini_consts]"
   ]
  },
  {
   "cell_type": "code",
   "execution_count": 3,
   "metadata": {},
   "outputs": [
    {
     "name": "stdout",
     "output_type": "stream",
     "text": [
      "Identified solution: 2.5*x1**4 - 1.3*x2**3 + 0.5*x3**2\n"
     ]
    }
   ],
   "source": [
    "# samples for the domain and boundary for refine\n",
    "n_samples, n_boundary = 10000, 10000\n",
    "X = np.random.uniform(left_bc, right_bc, (n_samples, 3))\n",
    "X_bc = cube(left_bc, right_bc, n_boundary)\n",
    "X_combine = np.concatenate([X, X_bc], axis=0)\n",
    "X_combine_torch = torch.tensor(X_combine, dtype=torch.float32, requires_grad=True)\n",
    "y = source_func(*X_combine.T).reshape(-1, 1)\n",
    "y_bc = solution_func(*X_bc.T).reshape(-1, 1)\n",
    "y_input = [y, y_bc]\n",
    "y_input_torch = [torch.tensor(i, dtype=torch.float32, requires_grad=True) for i in y_input]\n",
    "\n",
    "consts_index = [i for i in range(len(new_traversal)) if new_traversal[i].name == 'const']\n",
    "metric,_,_ = make_regression_metric(\"neg_smse_torch\", y_input)\n",
    "def pde_r(consts):\n",
    "    for i in range(len(consts)):\n",
    "        new_traversal[consts_index[i]].torch_value = consts[i]\n",
    "    y = pe(new_traversal, X_combine_torch)\n",
    "    f = function_map['poisson3d'](y, X_combine_torch)\n",
    "    y_hat = [f, y[-n_boundary:,0:1]]\n",
    "    r = metric(y_input_torch,y_hat)\n",
    "    obj = -r\n",
    "    return obj\n",
    "\n",
    "optimized_consts, smse = make_const_optimizer('torch')(pde_r, ini_consts)\n",
    "for i in range(len(optimized_consts)):\n",
    "    new_traversal[consts_index[i]].value = optimized_consts[i]\n",
    "    new_traversal[consts_index[i]].parse_value()\n",
    "test_p = Program()\n",
    "test_p.traversal = new_traversal\n",
    "sym_expr = sp.simplify(sp.N(sp.expand(sp.sympify(test_p.sympy_expr)),4))\n",
    "print(f'Identified solution: {sym_expr}')\n"
   ]
  }
 ],
 "metadata": {
  "kernelspec": {
   "display_name": "SymPDE",
   "language": "python",
   "name": "python3"
  },
  "language_info": {
   "codemirror_mode": {
    "name": "ipython",
    "version": 3
   },
   "file_extension": ".py",
   "mimetype": "text/x-python",
   "name": "python",
   "nbconvert_exporter": "python",
   "pygments_lexer": "ipython3",
   "version": "3.7.12"
  }
 },
 "nbformat": 4,
 "nbformat_minor": 2
}
