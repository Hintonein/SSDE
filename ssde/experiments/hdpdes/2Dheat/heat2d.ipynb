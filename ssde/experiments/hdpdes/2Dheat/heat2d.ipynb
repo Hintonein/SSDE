{
 "cells": [
  {
   "cell_type": "markdown",
   "metadata": {},
   "source": [
    "# 2D Heat Equation Solver\n",
    "\n",
    "This notebook solves the 2D Heat equation using the recursive exploration policy."
   ]
  },
  {
   "cell_type": "code",
   "execution_count": 1,
   "metadata": {},
   "outputs": [
    {
     "name": "stdout",
     "output_type": "stream",
     "text": [
      "real_params:['t', 'x1', 'x2']\n",
      "source:1.0*t - 30.0*x1**2 + 7.8*x2\n"
     ]
    }
   ],
   "source": [
    "import os\n",
    "import time\n",
    "import torch\n",
    "import pickle\n",
    "import sympy as sp\n",
    "import numpy as np\n",
    "from scipy.optimize import least_squares\n",
    "from ssde import PDERecursionSolver\n",
    "from ssde.execute import cython_recursion_execute as ce\n",
    "from ssde.execute import python_execute as pe\n",
    "from ssde.program import Program\n",
    "from ssde.utils import jupyter_logging, rect\n",
    "from ssde.const import make_const_optimizer\n",
    "from ssde.pde import function_map\n",
    "from ssde.task.recursion.recursion import make_regression_metric\n",
    "from ssde.gradients import hessian, jacobian\n",
    "\n",
    "\n",
    "np.random.seed(0)\n",
    "LEFT, RIGHT = -1,1\n",
    "TLEFT, TRIGHT = 0, 1\n",
    "if not os.path.exists('logs'):\n",
    "    os.makedirs('logs')\n",
    "SOLUTION = sp.sympify(\"2.5*x1**4 - 1.3*x2**3 + 0.5*t**2\")\n",
    "\n",
    "\n",
    "def calculate_source(solution):\n",
    "    ''' Calculate the source term of the PDE '''\n",
    "    # solution: sympy expr of the solution\n",
    "    real_params = dict()\n",
    "    for symbol in sp.preorder_traversal(solution):\n",
    "        if isinstance(symbol, sp.Symbol):\n",
    "            exec('%s = sp.Symbol(\"%s\")' % (symbol.name, symbol.name))\n",
    "            if symbol.name not in real_params:\n",
    "                real_params[symbol.name] = None\n",
    "    real_params = sorted(list(real_params.keys()))\n",
    "    print(f'real_params:{real_params}')\n",
    "    source = 0\n",
    "    for i in real_params:\n",
    "        if i == 't':\n",
    "            source += sp.diff(solution, i)\n",
    "            continue\n",
    "        source -= sp.diff(solution, i, 2)\n",
    "    print(f'source:{source}')\n",
    "    solution_func = sp.lambdify(real_params, solution, modules='numpy')\n",
    "    source_func = sp.lambdify(real_params, source, modules='numpy')\n",
    "    return solution_func, source_func, real_params\n",
    "\n",
    "def replace_nxexpr(traversals, index=0, new_traversal=None):\n",
    "    \"\"\"\n",
    "    Replace Nxexpr in the traversal with the corresponding expression recursively.\n",
    "\n",
    "    Parameters\n",
    "    ----------\n",
    "    traversals : list\n",
    "        The list of traversal of the single variable.\n",
    "    index : int\n",
    "        The index of current traversal.\n",
    "    new_traversal : list\n",
    "        The result of the replacement.\n",
    "    \"\"\"\n",
    "    if new_traversal is None:\n",
    "        new_traversal = []\n",
    "\n",
    "    if index + 1 == len(traversals):\n",
    "        return new_traversal + traversals[index]\n",
    "    \n",
    "    current_ls = traversals[index]\n",
    "    for token in current_ls:\n",
    "        if token.name != 'Nxexpr':\n",
    "            new_traversal.append(token)\n",
    "        else:\n",
    "            sub_result = replace_nxexpr(traversals, index+1, [])\n",
    "            new_traversal.extend(sub_result)\n",
    "    return new_traversal\n",
    "\n",
    "def opti_nxexpr(traversal, x, y):\n",
    "    def opti_consts(nxexpr):\n",
    "        for token in traversal:\n",
    "            if token.name == 'Nxexpr':\n",
    "                token.value = nxexpr.reshape(-1,1)\n",
    "        y_hat = ce(traversal, x)\n",
    "        return (y_hat-y).ravel()\n",
    "    return opti_consts\n",
    "\n",
    "@jupyter_logging(\"logs/single_var.log\")\n",
    "def solve_single_var(X_input, y_input, var_index, config_file, diff=None):\n",
    "    model = PDERecursionSolver(config_file)\n",
    "    start_time = time.time()\n",
    "    config = model.fit(X_input, y_input, start_n_var=var_index,diff=diff)\n",
    "    print(f'Time used: {time.time()-start_time}')\n",
    "    traversal = config.program_.traversal\n",
    "    expr = config.program_.sympy_expr\n",
    "    print(f'Identified var x{var_index}\\'s parametirc expression:')\n",
    "    print(expr)\n",
    "    print(f'Identified var x{var_index}\\'s traversal:')\n",
    "    print(traversal)\n",
    "    return traversal, expr, model\n",
    "\n",
    "solution_func, source_func, real_params = calculate_source(SOLUTION)"
   ]
  },
  {
   "cell_type": "markdown",
   "metadata": {},
   "source": [
    "## Expression of `t`"
   ]
  },
  {
   "cell_type": "code",
   "execution_count": 3,
   "metadata": {},
   "outputs": [],
   "source": [
    "# boundary conditions of t direction\n",
    "n_tbc_dim1 = 10\n",
    "n_x12bc_dim1 = 4\n",
    "\n",
    "t_bc = np.linspace(TLEFT, TRIGHT, n_tbc_dim1)\n",
    "t_bc_dim1 = t_bc.reshape(-1, 1)\n",
    "X12bc = rect([LEFT, LEFT], [RIGHT, RIGHT], n_x12bc_dim1)\n",
    "X1bc = X12bc[:, 0]\n",
    "X2bc = X12bc[:, 1]\n",
    "X, yz_inx = np.meshgrid(t_bc, np.arange(n_x12bc_dim1), indexing='ij')\n",
    "coordinates = np.stack([X.flatten(), X1bc[yz_inx].flatten(), X2bc[yz_inx].flatten()], axis=-1)\n",
    "\n",
    "y_bc_dim1 = solution_func(*coordinates.transpose(1,0)).reshape(-1, n_x12bc_dim1)"
   ]
  },
  {
   "cell_type": "code",
   "execution_count": 4,
   "metadata": {},
   "outputs": [
    {
     "name": "stdout",
     "output_type": "stream",
     "text": [
      "Saved Trainer state to models/2dheat_t_model/trainer.json.\n",
      "t model successfully saved\n",
      "t traversal successfully saved\n"
     ]
    }
   ],
   "source": [
    "X_input = [None, t_bc_dim1]\n",
    "y_input = [None, y_bc_dim1]\n",
    "\n",
    "def u_t_forward(y, t):\n",
    "    return jacobian(y, t, i=0, j=0)\n",
    "if os.path.exists('logs/2dheat_t.log'):\n",
    "    os.remove('logs/2dheat_t.log')\n",
    "config_file = 'configs/config_heat_gp.json'\n",
    "LOG_PATH = 'logs/2dheat_t.log'\n",
    "t_traversal, t_expr, t_model = solve_single_var(X_input, y_input, \n",
    "                                                1, config_file, log_path=LOG_PATH,diff=u_t_forward)\n",
    "t_model.save('models/2dheat_t_model')\n",
    "print('t model successfully saved')\n",
    "for i in t_traversal:\n",
    "    if i.name == 'x1':\n",
    "        i.name = 't'\n",
    "with open('models/2dheat_t_traversal.pkl', 'wb') as f:\n",
    "    pickle.dump(t_traversal, f)\n",
    "print('t traversal successfully saved')"
   ]
  },
  {
   "cell_type": "markdown",
   "metadata": {},
   "source": [
    "## Expression of `x1` "
   ]
  },
  {
   "cell_type": "code",
   "execution_count": 2,
   "metadata": {},
   "outputs": [],
   "source": [
    "# Compute the value of const (actually the label of x2)\n",
    "n_tbc = 1\n",
    "n_x1bc = 20\n",
    "n_x2bc = 4\n",
    "t_bc = np.array([TLEFT])\n",
    "X1_bc = np.linspace(LEFT, RIGHT, n_x1bc).reshape(-1,1)\n",
    "X_bc_dim2 = X1_bc\n",
    "X2_bc = np.random.uniform(LEFT, RIGHT, (n_x2bc,))\n",
    "X1, X2, X3 = np.meshgrid(t_bc, X1_bc, X2_bc, indexing='ij')\n",
    "x1_points = np.stack([X1.ravel(), X2.ravel(), X3.ravel()], axis=-1)\n",
    "y_bc = solution_func(*x1_points.T).reshape(-1, 1)"
   ]
  },
  {
   "cell_type": "code",
   "execution_count": 3,
   "metadata": {},
   "outputs": [],
   "source": [
    "with open('models/2dheat_t_traversal.pkl', 'rb') as f:\n",
    "    t_traversal = pickle.load(f)\n",
    "opti_x1expr = opti_nxexpr(t_traversal, x1_points, y_bc)\n",
    "\n",
    "consts = np.ones(x1_points.shape[0])\n",
    "res = least_squares(opti_x1expr, consts, method='lm')\n",
    "y_bc_reshaped = res.x.reshape(n_tbc, n_x1bc, n_x2bc,1)\n",
    "y_bc_transposed = y_bc_reshaped.transpose(1,0,2,3)\n",
    "y_bc_dim2 = y_bc_transposed.reshape((n_x1bc, -1))\n",
    "# test optimization is correct or not\n",
    "# jin1\n",
    "# consts_real = []\n",
    "# for i in range(4):\n",
    "#     consts_real.append(2.5 * X1_bc**4 - 1.3* X2_bc[i]**3)\n",
    "# consts_real = np.concatenate(consts_real, axis=1)\n",
    "# print('abs error:', np.abs(consts_real-y_bc_dim2).mean())"
   ]
  },
  {
   "cell_type": "code",
   "execution_count": 4,
   "metadata": {},
   "outputs": [
    {
     "name": "stdout",
     "output_type": "stream",
     "text": [
      "Saved Trainer state to models/2dheat_x1_model/trainer.json.\n",
      "x1 model successfully saved\n",
      "x1 traversal successfully saved\n"
     ]
    }
   ],
   "source": [
    "X_input = [None, X_bc_dim2]\n",
    "y_input = [None, y_bc_dim2]\n",
    "\n",
    "if os.path.exists('logs/2dheat_x1.log'):\n",
    "    os.remove('logs/2dheat_x1.log')\n",
    "config_file = 'configs/config_heat_gp.json'\n",
    "LOG_PATH = 'logs/2dheat_x1.log'\n",
    "x1_traversal, x1_expr, x1_model = solve_single_var(X_input, y_input, \n",
    "                                                1, config_file, log_path=LOG_PATH)\n",
    "x1_model.save('models/2dheat_x1_model')\n",
    "print('x1 model successfully saved')\n",
    "with open('models/2dheat_x1_traversal.pkl', 'wb') as f:\n",
    "    pickle.dump(x1_traversal, f)\n",
    "print('x1 traversal successfully saved')"
   ]
  },
  {
   "cell_type": "markdown",
   "metadata": {},
   "source": [
    "## Expression of `X2`"
   ]
  },
  {
   "cell_type": "code",
   "execution_count": 2,
   "metadata": {},
   "outputs": [],
   "source": [
    "# Compute the value of const (actually the label of x2)\n",
    "n_tbc = 1\n",
    "n_x1bc = 1\n",
    "n_x2bc = 20\n",
    "t_bc = np.array([TLEFT])\n",
    "X1_bc = np.array([LEFT])\n",
    "X2_bc = np.linspace(LEFT, RIGHT, n_x2bc).reshape(-1,1)\n",
    "X1, X2, X3 = np.meshgrid(t_bc, X1_bc, X2_bc, indexing='ij')\n",
    "\n",
    "x1_points = np.stack([X1.ravel(), X2.ravel(), X3.ravel()], axis=-1)\n",
    "X_bc_dim3 = x1_points[:,1:]\n",
    "y_bc = solution_func(*x1_points.T).reshape(-1, 1)"
   ]
  },
  {
   "cell_type": "code",
   "execution_count": 3,
   "metadata": {},
   "outputs": [
    {
     "name": "stdout",
     "output_type": "stream",
     "text": [
      "abs error: 0.000558146252233248\n"
     ]
    }
   ],
   "source": [
    "with open('models/2dheat_t_traversal.pkl', 'rb') as f:\n",
    "    t_traversal = pickle.load(f)\n",
    "with open('models/2dheat_x1_traversal.pkl', 'rb') as f:\n",
    "    x1_traversal = pickle.load(f)\n",
    "# replace the nxexpr with x2_traversal\n",
    "new_traversal = replace_nxexpr([t_traversal, x1_traversal])\n",
    "for token in new_traversal:\n",
    "    if token.input_var is not None and token.name[0] == 'x':\n",
    "        token.input_var = int(token.name[1])\n",
    "\n",
    "opti_x2expr = opti_nxexpr(new_traversal, x1_points, y_bc)\n",
    "consts = np.ones(x1_points.shape[0])\n",
    "res = least_squares(opti_x2expr, consts, method='lm')\n",
    "y_bc_dim3 = res.x.reshape(-1,1)\n",
    "# test optimization is correct or not\n",
    "# consts_real =  (-1.3* X2_bc**3).reshape(-1,1)\n",
    "# print('abs error:', np.abs(consts_real-y_bc_dim3).mean())"
   ]
  },
  {
   "cell_type": "code",
   "execution_count": 5,
   "metadata": {},
   "outputs": [
    {
     "name": "stdout",
     "output_type": "stream",
     "text": [
      "Saved Trainer state to models/2dheat_x2_model/trainer.json.\n",
      "x2 model successfully saved\n",
      "x2 traversal successfully saved\n"
     ]
    }
   ],
   "source": [
    "X_input = [None, X_bc_dim3]\n",
    "y_input = [None, y_bc_dim3]\n",
    "if os.path.exists('logs/2dheat_x2.log'):\n",
    "    os.remove('logs/2dheat_x2.log')\n",
    "config_file = 'configs/config_heat_gp.json'\n",
    "LOG_PATH = 'logs/2dheat_x2.log'\n",
    "x2_traversal, x2_expr, x2_model = solve_single_var(X_input, y_input, \n",
    "                                                2, config_file, log_path=LOG_PATH)\n",
    "x2_model.save('models/2dheat_x2_model')\n",
    "print('x2 model successfully saved')\n",
    "with open('models/2dheat_x2_traversal.pkl', 'wb') as f:\n",
    "    pickle.dump(x2_traversal, f)\n",
    "print('x2 traversal successfully saved')"
   ]
  },
  {
   "cell_type": "markdown",
   "metadata": {},
   "source": [
    "## CFS of 2d heat equation"
   ]
  },
  {
   "cell_type": "code",
   "execution_count": 2,
   "metadata": {},
   "outputs": [
    {
     "name": "stdout",
     "output_type": "stream",
     "text": [
      "Identified solution: 0.5*t**2 + 2.499*x1**4 - 1.3*x2**3 + 0.0004425\n"
     ]
    }
   ],
   "source": [
    "traversals = []\n",
    "with open(f'models/2dheat_t_traversal.pkl', 'rb') as f:\n",
    "        traversals.append(pickle.load(f))\n",
    "for i in range(1,3):\n",
    "    with open(f'models/2dheat_x{i}_traversal.pkl', 'rb') as f:\n",
    "        traversals.append(pickle.load(f))\n",
    "\n",
    "new_traversal = replace_nxexpr(traversals)\n",
    "\n",
    "for token in new_traversal:\n",
    "    if token.input_var is not None:\n",
    "        if token.name[0] == 'x':\n",
    "            token.input_var = int(token.name[1])\n",
    "\n",
    "test_p = Program()\n",
    "test_p.traversal = new_traversal\n",
    "sym_expr = sp.simplify(sp.N(sp.expand(sp.sympify(test_p.sympy_expr)),4))\n",
    "print(f'Identified solution: {sym_expr}')\n",
    "\n",
    "ini_consts = []\n",
    "for token in new_traversal:\n",
    "    if token.name == 'const':\n",
    "        ini_consts.append(token.value)\n",
    "ini_consts = [torch.tensor(i, requires_grad=True) for i in ini_consts]"
   ]
  },
  {
   "cell_type": "code",
   "execution_count": 3,
   "metadata": {},
   "outputs": [],
   "source": [
    "# samples for the domain and boundary for refine\n",
    "n_samples, n_x12_bc, n_t_bc,n_ic = 1000, 100, 10, 1000\n",
    "X = np.random.uniform(LEFT, RIGHT, (n_samples, 3))\n",
    "X12_bc = rect([LEFT, LEFT], [RIGHT, RIGHT], n_x12_bc)\n",
    "X1_bc = X12_bc[:, 0]\n",
    "X2_bc = X12_bc[:, 1]\n",
    "Xt_bc = np.linspace(TLEFT, TRIGHT, n_t_bc)\n",
    "indx = np.meshgrid(Xt_bc, np.arange(n_x12_bc), indexing='ij')\n",
    "X_bc = np.stack([indx[0].flatten(), X1_bc[indx[1]].flatten(), X2_bc[indx[1]].flatten()], axis=-1)\n",
    "X_ic = np.concatenate([np.ones((n_ic,1)) * TLEFT, np.random.uniform(LEFT,RIGHT,(n_ic,2))], axis=1)\n",
    "X_ibc = np.concatenate([X_bc, X_ic], axis=0)\n",
    "X_combine = np.concatenate([X, X_ibc], axis=0)\n",
    "X_combine_torch = torch.tensor(X_combine, dtype=torch.float32, requires_grad=True)\n",
    "y = source_func(*X_combine.T).reshape(-1, 1)\n",
    "y_ibc = solution_func(*X_ibc.T).reshape(-1, 1)\n",
    "FORWARD_NUM = y_ibc.shape[0]"
   ]
  },
  {
   "cell_type": "code",
   "execution_count": 7,
   "metadata": {},
   "outputs": [
    {
     "name": "stdout",
     "output_type": "stream",
     "text": [
      "Identified solution: 0.4999*t**2 + 2.5*x1**4 - 1.3*x2**3 + 7.629e-6\n"
     ]
    }
   ],
   "source": [
    "y_input = [y, y_ibc]\n",
    "y_input_torch = [torch.tensor(i, dtype=torch.float32, requires_grad=True) for i in y_input]\n",
    "consts_index = [i for i in range(len(new_traversal)) if new_traversal[i].name == 'const']\n",
    "metric,_,_ = make_regression_metric(\"neg_smse_torch\", y_input)\n",
    "def pde_r(consts):\n",
    "    for i in range(len(consts)):\n",
    "        new_traversal[consts_index[i]].torch_value = consts[i]\n",
    "    y = pe(new_traversal, X_combine_torch)\n",
    "    f = function_map['heat2d'](y, X_combine_torch)\n",
    "    y_hat = [f, y[-FORWARD_NUM:,0:1]]\n",
    "    r = metric(y_input_torch,y_hat)\n",
    "    obj = -r\n",
    "    return obj\n",
    "\n",
    "optimized_consts, smse = make_const_optimizer('torch')(pde_r, ini_consts)\n",
    "for i in range(len(optimized_consts)):\n",
    "    new_traversal[consts_index[i]].value = optimized_consts[i]\n",
    "    new_traversal[consts_index[i]].parse_value()\n",
    "test_p = Program()\n",
    "test_p.traversal = new_traversal\n",
    "sym_expr = sp.simplify(sp.N(sp.expand(sp.sympify(test_p.sympy_expr)),4))\n",
    "print(f'Identified solution: {sym_expr}')"
   ]
  }
 ],
 "metadata": {
  "kernelspec": {
   "display_name": "SymPDE",
   "language": "python",
   "name": "python3"
  },
  "language_info": {
   "codemirror_mode": {
    "name": "ipython",
    "version": 3
   },
   "file_extension": ".py",
   "mimetype": "text/x-python",
   "name": "python",
   "nbconvert_exporter": "python",
   "pygments_lexer": "ipython3",
   "version": "3.7.12"
  }
 },
 "nbformat": 4,
 "nbformat_minor": 2
}
