{
 "cells": [
  {
   "cell_type": "code",
   "execution_count": 1,
   "metadata": {},
   "outputs": [
    {
     "name": "stderr",
     "output_type": "stream",
     "text": [
      "/home/weishu/.conda/envs/ssde/lib/python3.6/site-packages/tqdm/auto.py:22: TqdmWarning: IProgress not found. Please update jupyter and ipywidgets. See https://ipywidgets.readthedocs.io/en/stable/user_install.html\n",
      "  from .autonotebook import tqdm as notebook_tqdm\n"
     ]
    },
    {
     "name": "stdout",
     "output_type": "stream",
     "text": [
      "real_params:['t', 'x1', 'x2', 'x3']\n",
      "source:-30.0*x1**2 + 7.8*x2 - 2.7\n"
     ]
    }
   ],
   "source": [
    "import os\n",
    "import time\n",
    "import torch\n",
    "import pickle\n",
    "import sympy as sp\n",
    "import numpy as np\n",
    "from scipy.optimize import least_squares\n",
    "from ssde import PDERecursionSolver\n",
    "from ssde.execute import cython_recursion_execute as ce\n",
    "from ssde.execute import python_execute as pe\n",
    "from ssde.program import Program\n",
    "from ssde.utils import jupyter_logging, cube\n",
    "from ssde.const import make_const_optimizer\n",
    "from ssde.pde import function_map\n",
    "from ssde.task.recursion.recursion import make_regression_metric\n",
    "from ssde.gradients import hessian, jacobian\n",
    "from ssde.library import PlaceholderConstant\n",
    "\n",
    "\n",
    "np.random.seed(0)\n",
    "LEFT, RIGHT = -1, 1\n",
    "TLEFT, TRIGHT = 0, 1\n",
    "if not os.path.exists('logs'):\n",
    "    os.makedirs('logs')\n",
    "SOLUTION = sp.sympify(\"2.5*x1**4 - 1.3*x2**3 + 0.5*x3**2 - 1.7*t\")\n",
    "\n",
    "def calculate_source(solution):\n",
    "    ''' Calculate the source term of the PDE '''\n",
    "    # solution: sympy expr of the solution\n",
    "    real_params = dict()\n",
    "    for symbol in sp.preorder_traversal(solution):\n",
    "        if isinstance(symbol, sp.Symbol):\n",
    "            exec('%s = sp.Symbol(\"%s\")' % (symbol.name, symbol.name))\n",
    "            if symbol.name not in real_params:\n",
    "                real_params[symbol.name] = None\n",
    "    real_params = sorted(list(real_params.keys()))\n",
    "    print(f'real_params:{real_params}')\n",
    "    source = 0\n",
    "    for i in real_params:\n",
    "        if i == 't':\n",
    "            source += sp.diff(solution, i)\n",
    "            continue\n",
    "        source -= sp.diff(solution, i, 2)\n",
    "    print(f'source:{source}')\n",
    "    solution_func = sp.lambdify(real_params, solution, modules='numpy')\n",
    "    source_func = sp.lambdify(real_params, source, modules='numpy')\n",
    "    return solution_func, source_func, real_params\n",
    "\n",
    "def replace_nxexpr(traversals, index=0, new_traversal=None):\n",
    "    \"\"\"\n",
    "    Replace Nxexpr in the traversal with the corresponding expression recursively.\n",
    "\n",
    "    Parameters\n",
    "    ----------\n",
    "    traversals : list\n",
    "        The list of traversal of the single variable.\n",
    "    index : int\n",
    "        The index of current traversal.\n",
    "    new_traversal : list\n",
    "        The result of the replacement.\n",
    "    \"\"\"\n",
    "    if new_traversal is None:\n",
    "        new_traversal = []\n",
    "\n",
    "    if index + 1 == len(traversals):\n",
    "        return new_traversal + traversals[index]\n",
    "    \n",
    "    current_ls = traversals[index]\n",
    "    for token in current_ls:\n",
    "        if token.name != 'Nxexpr':\n",
    "            new_traversal.append(token)\n",
    "        else:\n",
    "            sub_result = replace_nxexpr(traversals, index+1, [])\n",
    "            new_traversal.extend(sub_result)\n",
    "    return new_traversal\n",
    "\n",
    "def opti_nxexpr(traversal, x, y):\n",
    "    def opti_consts(nxexpr):\n",
    "        for token in traversal:\n",
    "            if token.name == 'Nxexpr':\n",
    "                token.value = nxexpr.reshape(-1,1)\n",
    "        y_hat = ce(traversal, x)\n",
    "        return (y_hat-y).ravel()\n",
    "    return opti_consts\n",
    "\n",
    "@jupyter_logging(\"logs/single_var.log\")\n",
    "def solve_single_var(X_input, y_input, var_index, config_file, diff=None):\n",
    "    model = PDERecursionSolver(config_file)\n",
    "    start_time = time.time()\n",
    "    config = model.fit(X_input, y_input, start_n_var=var_index,diff=diff)\n",
    "    print(f'Time used: {time.time()-start_time}')\n",
    "    traversal = config.program_.traversal\n",
    "    expr = config.program_.sympy_expr\n",
    "    print(f'Identified var x{var_index}\\'s parametirc expression:')\n",
    "    print(expr)\n",
    "    print(f'Identified var x{var_index}\\'s traversal:')\n",
    "    print(traversal)\n",
    "    return traversal, expr, model\n",
    "\n",
    "\n",
    "solution_func, source_func, real_params = calculate_source(SOLUTION)"
   ]
  },
  {
   "cell_type": "markdown",
   "metadata": {},
   "source": [
    "## Expression of `t` "
   ]
  },
  {
   "cell_type": "code",
   "execution_count": 2,
   "metadata": {},
   "outputs": [],
   "source": [
    "# boundary conditions of t direction\n",
    "n_tbc_dim1 = 10\n",
    "n_x123bc_dim1 = 4\n",
    "\n",
    "t_bc = np.linspace(TLEFT, TRIGHT, n_tbc_dim1)\n",
    "t_bc_dim1 = t_bc.reshape(-1, 1)\n",
    "X123bc = cube(LEFT, RIGHT, n_x123bc_dim1)\n",
    "X1bc = X123bc[:, 0]\n",
    "X2bc = X123bc[:, 1]\n",
    "X3bc = X123bc[:, 2]\n",
    "X, yz_inx = np.meshgrid(t_bc, np.arange(n_x123bc_dim1), indexing='ij')\n",
    "coordinates = np.stack([X.flatten(), X1bc[yz_inx].flatten(), X2bc[yz_inx].flatten(), X3bc[yz_inx].flatten()], axis=-1)\n",
    "\n",
    "y_bc_dim1 = solution_func(*coordinates.transpose(1,0)).reshape(-1, n_x123bc_dim1)"
   ]
  },
  {
   "cell_type": "code",
   "execution_count": 3,
   "metadata": {},
   "outputs": [
    {
     "name": "stdout",
     "output_type": "stream",
     "text": [
      "Saved Trainer state to models/3dheat_t_model/trainer.json.\n",
      "t model successfully saved\n",
      "t traversal successfully saved\n"
     ]
    }
   ],
   "source": [
    "X_input = [None, t_bc_dim1]\n",
    "y_input = [None, y_bc_dim1]\n",
    "\n",
    "def u_t_forward(y, t):\n",
    "    return jacobian(y, t, i=0, j=0)\n",
    "LOG_PATH = 'logs/3dheat_t.log'\n",
    "config_file = 'configs/config_heat_gp.json'\n",
    "if os.path.exists(LOG_PATH):\n",
    "    os.remove(LOG_PATH)\n",
    "t_traversal, t_expr, t_model = solve_single_var(X_input, y_input, \n",
    "                                                1, config_file, log_path=LOG_PATH,diff=u_t_forward)\n",
    "\n",
    "\n",
    "t_model.save('models/3dheat_t_model')\n",
    "print('t model successfully saved')\n",
    "for i in t_traversal:\n",
    "    if i.name == 'x1':\n",
    "        i.name = 't'\n",
    "with open('models/3dheat_t_traversal.pkl', 'wb') as f:\n",
    "    pickle.dump(t_traversal, f)\n",
    "print('t traversal successfully saved')"
   ]
  },
  {
   "cell_type": "markdown",
   "metadata": {},
   "source": [
    "## Expression of `X1` "
   ]
  },
  {
   "cell_type": "code",
   "execution_count": 11,
   "metadata": {},
   "outputs": [],
   "source": [
    "# Compute the value of const (actually the label of x2)\n",
    "n_tbc = 1\n",
    "n_x1bc = 31\n",
    "n_x23bc = 4\n",
    "t_bc = np.array([TLEFT])\n",
    "X1_bc = np.linspace(LEFT, RIGHT, n_x1bc).reshape(-1,1)\n",
    "X_bc_dim2 = X1_bc\n",
    "X23_bc = np.random.uniform(LEFT, RIGHT, (n_x23bc,2))\n",
    "X2_bc = X23_bc[:, 0]\n",
    "X3_bc = X23_bc[:, 1]\n",
    "T, X1, x23_inx = np.meshgrid(t_bc, X1_bc, np.arange(n_x23bc), indexing='ij')\n",
    "x1_points = np.stack([T.flatten(), X1.flatten(), X2_bc[x23_inx].flatten(), X3_bc[x23_inx].flatten()], axis=-1)\n",
    "y_bc = solution_func(*x1_points.T).reshape(-1, 1)"
   ]
  },
  {
   "cell_type": "code",
   "execution_count": 12,
   "metadata": {},
   "outputs": [
    {
     "name": "stdout",
     "output_type": "stream",
     "text": [
      "abs error: 0.0\n"
     ]
    }
   ],
   "source": [
    "with open('models/3dheat_t_traversal.pkl', 'rb') as f:\n",
    "    t_traversal = pickle.load(f)\n",
    "\n",
    "opti_x1expr = opti_nxexpr(t_traversal, x1_points, y_bc)\n",
    "\n",
    "consts = np.ones(x1_points.shape[0])\n",
    "res = least_squares(opti_x1expr, consts, method='lm')\n",
    "y_bc_reshaped = res.x.reshape(n_tbc, n_x1bc, n_x23bc,1)\n",
    "y_bc_transposed = y_bc_reshaped.transpose(1,0,2,3)\n",
    "y_bc_dim2 = y_bc_transposed.reshape((n_x1bc, -1))\n",
    "# test optimization is correct or not\n",
    "# jin1\n",
    "# consts_real = []\n",
    "# for i in range(4):\n",
    "#     consts_real.append(2.5 * X1_bc**4 - 1.3* X2_bc[i]**3 + 0.5 * X3_bc[i]**2)\n",
    "# consts_real = np.concatenate(consts_real, axis=1)\n",
    "# print('abs error:', np.abs(consts_real-y_bc_dim2).mean())"
   ]
  },
  {
   "cell_type": "code",
   "execution_count": 13,
   "metadata": {},
   "outputs": [
    {
     "name": "stdout",
     "output_type": "stream",
     "text": [
      "Saved Trainer state to models/3dheat_x1_model/trainer.json.\n",
      "x1 model successfully saved\n",
      "x1 traversal successfully saved\n"
     ]
    }
   ],
   "source": [
    "X_input = [None, X_bc_dim2]\n",
    "y_input = [None, y_bc_dim2]\n",
    "\n",
    "if os.path.exists('logs/3dheat_x1.log'):\n",
    "    os.remove('logs/3dheat_x1.log')\n",
    "config_file = 'configs/config_heat_gp.json'\n",
    "LOG_PATH = 'logs/3dheat_x1.log'\n",
    "x1_traversal, x1_expr, x1_model = solve_single_var(X_input, y_input, \n",
    "                                                1, config_file, log_path=LOG_PATH)\n",
    "x1_model.save('models/3dheat_x1_model')\n",
    "print('x1 model successfully saved')\n",
    "with open('models/3dheat_x1_traversal.pkl', 'wb') as f:\n",
    "    pickle.dump(x1_traversal, f)\n",
    "print('x1 traversal successfully saved')"
   ]
  },
  {
   "cell_type": "code",
   "execution_count": 2,
   "metadata": {},
   "outputs": [],
   "source": [
    "traversals = []\n",
    "with open(f'models/3dheat_t_traversal.pkl', 'rb') as f:\n",
    "    traversals.append(pickle.load(f))\n",
    "for i in range(1,2):\n",
    "    with open(f'models/3dheat_x{i}_traversal.pkl', 'rb') as f:\n",
    "        traversals.append(pickle.load(f))\n",
    "new_traversal = replace_nxexpr(traversals)\n",
    "for token in new_traversal:\n",
    "    if token.input_var is not None and token.name[0] == 'x':\n",
    "        token.input_var = int(token.name[1])\n",
    "\n",
    "# To optimize nxexpr more accurately, we need use more points on the boundary to optimize the generated skeleton before\n",
    "n_t = 10\n",
    "n_x1bc = 21\n",
    "t_refine = np.linspace(TLEFT, TRIGHT, n_t)\n",
    "X1_refine = np.linspace(LEFT, RIGHT, n_x1bc)\n",
    "X2_refine, X3_refine = np.array([LEFT]), np.array([RIGHT])\n",
    "coordinates = np.array(np.meshgrid(t_refine, X1_refine, X2_refine, X3_refine)).T.reshape(-1, 4)\n",
    "y_refine = solution_func(*coordinates.T).reshape(-1, 1)"
   ]
  },
  {
   "cell_type": "code",
   "execution_count": 3,
   "metadata": {},
   "outputs": [
    {
     "name": "stdout",
     "output_type": "stream",
     "text": [
      "Identified solution: Nxexpr - 1.7*t + 2.5*x1**4\n"
     ]
    }
   ],
   "source": [
    "const_pos = [i for i, t in enumerate(new_traversal) if isinstance(t, PlaceholderConstant)]\n",
    "for i in const_pos:\n",
    "    if new_traversal[i].name == 'Nxexpr':\n",
    "        temp = new_traversal[i].value\n",
    "        new_traversal[i].value = 1\n",
    "ini_const = np.array([new_traversal[i].value for i in const_pos], dtype=np.float64).ravel()\n",
    "def refine_consts(consts):\n",
    "    for i, j in enumerate(const_pos):\n",
    "        new_traversal[j].value = consts[i].reshape(-1,1)\n",
    "    y_hat = ce(new_traversal, coordinates)\n",
    "    return (y_hat-y_refine).ravel()\n",
    "res = least_squares(refine_consts, ini_const, method='lm')\n",
    "consts = res.x\n",
    "for i, j in enumerate(const_pos):\n",
    "    if new_traversal[j].name != 'Nxexpr':\n",
    "        new_traversal[j].value = consts[i].reshape(-1)\n",
    "    else:\n",
    "        new_traversal[j].value = temp\n",
    "\n",
    "test_p = Program()\n",
    "test_p.traversal = new_traversal\n",
    "sym_expr = sp.simplify(sp.N(sp.expand(sp.sympify(test_p.sympy_expr)),4))\n",
    "print(f'Identified solution: {sym_expr}')\n",
    "\n",
    "with open('models/3dheat_dim2_traversal.pkl', 'wb') as f:\n",
    "    pickle.dump(new_traversal, f)"
   ]
  },
  {
   "cell_type": "markdown",
   "metadata": {},
   "source": [
    "## Expression of `X2`"
   ]
  },
  {
   "cell_type": "code",
   "execution_count": 16,
   "metadata": {},
   "outputs": [],
   "source": [
    "# Compute the value of const (actually the label of x2)\n",
    "n_tbc = 1\n",
    "n_x1bc = 1\n",
    "n_x2bc = 31\n",
    "n_x3bc = 4\n",
    "t_bc = np.array([TLEFT])\n",
    "X1_bc = np.array([LEFT])\n",
    "X2_bc = np.linspace(LEFT, RIGHT, n_x2bc).reshape(-1,1)\n",
    "X3_bc = np.random.uniform(LEFT, RIGHT, (n_x3bc,1))\n",
    "t, X1, X2, X3 = np.meshgrid(t_bc, X1_bc, X2_bc, X3_bc, indexing='ij')\n",
    "\n",
    "x1_points = np.stack([t.ravel(), X1.ravel(), X2.ravel(), X3.ravel()], axis=-1)\n",
    "X_bc_dim3 = np.concatenate((np.tile(X1_bc, (n_x2bc,1)),X2_bc),axis=1)\n",
    "y_bc = solution_func(*x1_points.T).reshape(-1, 1)"
   ]
  },
  {
   "cell_type": "code",
   "execution_count": 17,
   "metadata": {},
   "outputs": [],
   "source": [
    "opti_x2expr = opti_nxexpr(new_traversal, x1_points, y_bc)\n",
    "consts = np.ones(x1_points.shape[0])\n",
    "res = least_squares(opti_x2expr, consts, method='lm')\n",
    "y_bc_dim3 = res.x.reshape(-1,n_x3bc)\n",
    "# test optimization is correct or not\n",
    "# consts_real = []\n",
    "# for i in range(n_x3bc):\n",
    "#     consts_real.append(1.3* X2_bc**3 - 0.5 * X3_bc[i]**2)\n",
    "# consts_real = np.concatenate(consts_real, axis=1)\n",
    "# print('abs error:', np.abs(consts_real-y_bc_dim3).mean())"
   ]
  },
  {
   "cell_type": "code",
   "execution_count": null,
   "metadata": {},
   "outputs": [],
   "source": [
    "X_input = [None, X_bc_dim3]\n",
    "y_input = [None, y_bc_dim3]\n",
    "if os.path.exists('logs/3dheat_x2.log'):\n",
    "    os.remove('logs/3dheat_x2.log')\n",
    "config_file = 'configs/config_heat_gp.json'\n",
    "LOG_PATH = 'logs/3dheat_x2.log'\n",
    "x2_traversal, x2_expr, x2_model = solve_single_var(X_input, y_input, \n",
    "                                                2, config_file, log_path=LOG_PATH)\n",
    "x2_model.save('models/3dheat_x2_model')\n",
    "print('x2 model successfully saved')\n",
    "with open('models/3dheat_x2_traversal.pkl', 'wb') as f:\n",
    "    pickle.dump(x2_traversal, f)\n",
    "print('x2 traversal successfully saved')"
   ]
  },
  {
   "cell_type": "code",
   "execution_count": 5,
   "metadata": {},
   "outputs": [
    {
     "name": "stdout",
     "output_type": "stream",
     "text": [
      "Identified solution: Nxexpr - 1.7*t + 2.5*x1**4 - 1.3*x2**3\n"
     ]
    }
   ],
   "source": [
    "with open(f'models/3dheat_dim2_traversal.pkl', 'rb') as f:\n",
    "    dim2_traversal = pickle.load(f)\n",
    "with open(f'models/3dheat_x2_traversal.pkl', 'rb') as f:\n",
    "    x2_traversal = pickle.load(f)\n",
    "new_traversal = replace_nxexpr([dim2_traversal, x2_traversal])\n",
    "\n",
    "for token in new_traversal:\n",
    "    if token.name == 'Nxexpr':\n",
    "            temp = token.value\n",
    "            token.value = 1\n",
    "    if token.input_var is not None:\n",
    "        if token.name[0] == 'x':\n",
    "            token.input_var = int(token.name[1])\n",
    "        \n",
    "\n",
    "# To optimize nxexpr more accurately, we need use more points on the boundary to optimize the generated skeleton before\n",
    "n_t = 10\n",
    "n_x1bc = 11\n",
    "n_x2bc = 11\n",
    "t_refine = np.linspace(TLEFT, TRIGHT, n_t)\n",
    "X1_refine = np.linspace(LEFT, RIGHT, n_x1bc)\n",
    "X2_refine =  np.linspace(LEFT, RIGHT, n_x2bc)\n",
    "X3_refine = np.array([RIGHT])\n",
    "coordinates = np.array(np.meshgrid(t_refine, X1_refine, X2_refine, X3_refine)).T.reshape(-1, 4)\n",
    "y_refine = solution_func(*coordinates.T).reshape(-1, 1)\n",
    "\n",
    "# 优化\n",
    "const_pos = [i for i, t in enumerate(new_traversal) if isinstance(t, PlaceholderConstant)]\n",
    "ini_const = np.array([new_traversal[i].value for i in const_pos], dtype=np.float64).ravel()\n",
    "def refine_consts(consts):\n",
    "    for i, j in enumerate(const_pos):\n",
    "        new_traversal[j].value = consts[i].reshape(-1,1)\n",
    "    y_hat = ce(new_traversal, coordinates)\n",
    "    return (y_hat-y_refine).ravel()\n",
    "res = least_squares(refine_consts, ini_const, method='lm')\n",
    "consts = res.x\n",
    "for i, j in enumerate(const_pos):\n",
    "    if new_traversal[j].name != 'Nxexpr':\n",
    "        new_traversal[j].value = consts[i].reshape(-1)\n",
    "    else:\n",
    "        new_traversal[j].value = temp\n",
    "\n",
    "test_p = Program()\n",
    "test_p.traversal = new_traversal\n",
    "sym_expr = sp.simplify(sp.N(sp.expand(sp.sympify(test_p.sympy_expr)),4))\n",
    "print(f'Identified solution: {sym_expr}')\n",
    "with open('models/3dheat_dim3_traversal.pkl', 'wb') as f:\n",
    "    pickle.dump(new_traversal, f)"
   ]
  },
  {
   "cell_type": "markdown",
   "metadata": {},
   "source": [
    "## Expression of `x3`"
   ]
  },
  {
   "cell_type": "code",
   "execution_count": 20,
   "metadata": {},
   "outputs": [],
   "source": [
    "# Compute the value of const (actually the label of x2)\n",
    "n_tbc = 1\n",
    "n_x1bc = 1\n",
    "n_x2bc = 1\n",
    "n_x3bc = 31\n",
    "t_bc = np.array([TLEFT])\n",
    "X1_bc = np.array([LEFT])\n",
    "X2_bc = np.array([LEFT])\n",
    "X3_bc = np.linspace(LEFT, RIGHT, n_x3bc).reshape(-1,1)\n",
    "T, X1, X2, X3 = np.meshgrid(t_bc, X1_bc, X2_bc, X3_bc, indexing='ij')\n",
    "\n",
    "x1_points = np.stack([T.ravel(), X1.ravel(), X2.ravel(), X3.ravel()], axis=-1)\n",
    "X_bc_dim4 = x1_points[:,1:]\n",
    "y_bc = solution_func(*x1_points.T).reshape(-1, 1)\n",
    "dim3_traversal = new_traversal\n",
    "opti_x3expr = opti_nxexpr(dim3_traversal, x1_points, y_bc)\n",
    "consts = np.ones(x1_points.shape[0])\n",
    "res = least_squares(opti_x3expr, consts, method='lm')\n",
    "y_bc_dim4 = res.x.reshape(-1,1)"
   ]
  },
  {
   "cell_type": "code",
   "execution_count": 21,
   "metadata": {},
   "outputs": [
    {
     "name": "stdout",
     "output_type": "stream",
     "text": [
      "Saved Trainer state to models/3dheat_x3_model/trainer.json.\n",
      "x3 model successfully saved\n",
      "x3 traversal successfully saved\n"
     ]
    }
   ],
   "source": [
    "X_input = [None, X_bc_dim4]\n",
    "y_input = [None, y_bc_dim4]\n",
    "LOG_PATH = 'logs/3dheat_x3.log'\n",
    "config_file = 'configs/config_heat_gp.json'\n",
    "if os.path.exists(LOG_PATH):\n",
    "    os.remove(LOG_PATH)\n",
    "x3_traversal, x3_expr, x3_model = solve_single_var(X_input, y_input, \n",
    "                                                3, config_file, log_path=LOG_PATH)\n",
    "x3_model.save('models/3dheat_x3_model')\n",
    "print('x3 model successfully saved')\n",
    "with open('models/3dheat_x3_traversal.pkl', 'wb') as f:\n",
    "    pickle.dump(x3_traversal, f)\n",
    "print('x3 traversal successfully saved')"
   ]
  },
  {
   "cell_type": "markdown",
   "metadata": {},
   "source": [
    "# CFS of 3d heat equation"
   ]
  },
  {
   "cell_type": "code",
   "execution_count": 2,
   "metadata": {},
   "outputs": [],
   "source": [
    "with open(f'models/3dheat_dim3_traversal.pkl', 'rb') as f:\n",
    "    dim3_traversal = pickle.load(f)\n",
    "with open(f'models/3dheat_x3_traversal.pkl', 'rb') as f:\n",
    "    x3_traversal = pickle.load(f)\n",
    "new_traversal = replace_nxexpr([dim3_traversal, x3_traversal])\n",
    "\n",
    "for token in new_traversal:\n",
    "    if token.input_var is not None:\n",
    "        if token.name[0] == 'x':\n",
    "            token.input_var = int(token.name[1])\n",
    "\n",
    "ini_consts = []\n",
    "for token in new_traversal:\n",
    "    if token.name == 'const':\n",
    "        ini_consts.append(token.value)\n",
    "ini_consts = [torch.tensor(i, requires_grad=True) for i in ini_consts]"
   ]
  },
  {
   "cell_type": "code",
   "execution_count": 3,
   "metadata": {},
   "outputs": [],
   "source": [
    "def sample_heat3d(n_X, n_t, n_X_bc, n_t_bc, n_ic, seed=0):\n",
    "    ''' samples for the domain and boundary for refine'''\n",
    "    # n_X: number of samples in the spatio domain\n",
    "    # n_t: number of samples in the time domain\n",
    "    # n_X_bc: number of samples in the spatio boundary\n",
    "    # n_t_bc: number of samples in the time boundary\n",
    "    # n_ic: number of initial conditions(for saptio domain)\n",
    "    np.random.seed(seed)\n",
    "    X_spatio = np.random.uniform(LEFT, RIGHT, (n_X, 3))\n",
    "    X_tempo = np.random.uniform(TLEFT, TRIGHT, (n_t, 1))\n",
    "    indx = np.meshgrid(X_tempo, np.arange(n_X), indexing='ij')\n",
    "    X = np.stack([indx[0].flatten(), \n",
    "                X_spatio[:,0][indx[1]].flatten(), \n",
    "                X_spatio[:,1][indx[1]].flatten(), \n",
    "                X_spatio[:,2][indx[1]].flatten()], axis=-1)\n",
    "\n",
    "    X_bc_spatio = cube(LEFT, RIGHT, n_X_bc)\n",
    "    X_bc_tempo = np.random.uniform(TLEFT, TRIGHT, (n_t_bc, 1))\n",
    "    indx = np.meshgrid(X_bc_tempo, np.arange(n_X_bc), indexing='ij')\n",
    "    X_bc = np.stack([indx[0].flatten(), \n",
    "                    X_bc_spatio[:,0][indx[1]].flatten(), \n",
    "                    X_bc_spatio[:,1][indx[1]].flatten(), \n",
    "                    X_bc_spatio[:,2][indx[1]].flatten()], axis=-1)\n",
    "    X_ic_spatio = np.random.uniform(LEFT, RIGHT, (n_ic, 3))\n",
    "    X_ic = np.concatenate((np.ones((X_ic_spatio.shape[0],1))*TLEFT, X_ic_spatio), axis=1)\n",
    "    X_ibc = np.concatenate((X_bc, X_ic), axis=0)\n",
    "    X_combine = np.concatenate((X, X_bc, X_ic), axis=0)\n",
    "    FORWARD_NUM = X_ibc.shape[0]\n",
    "    return X_combine, X_ibc,  FORWARD_NUM\n",
    "\n",
    "\n",
    "n_X, n_t, n_X_bc, n_t_bc,n_ic = 100, 100, 100, 100, 1000\n",
    "X_combine, X_ibc, FORWARD_NUM = sample_heat3d(n_X, n_t, n_X_bc, n_t_bc, n_ic)\n",
    "source_real = source_func(*X_combine.T).reshape(-1, 1)\n",
    "solution_real = solution_func(*X_ibc.T).reshape(-1, 1)\n",
    "label = [source_real, solution_real]\n",
    "X_combine_torch = torch.tensor(X_combine, requires_grad=True)\n",
    "label_torch = [torch.tensor(i, requires_grad=True) for i in label]"
   ]
  },
  {
   "cell_type": "code",
   "execution_count": 4,
   "metadata": {},
   "outputs": [
    {
     "name": "stdout",
     "output_type": "stream",
     "text": [
      "Identified solution: -1.7*t + 2.5*x1**4 - 1.3*x2**3 + 0.5*x3**2\n"
     ]
    }
   ],
   "source": [
    "consts_index = [i for i in range(len(new_traversal)) if new_traversal[i].name == 'const']\n",
    "metric,_,_ = make_regression_metric(\"neg_smse_torch\", label)\n",
    "def opti_pde(metric, X_combine_torch, label_torch, new_traversal):\n",
    "    def pde_r(consts):\n",
    "        for i in range(len(consts)):\n",
    "            new_traversal[consts_index[i]].torch_value = consts[i]\n",
    "        y = pe(new_traversal, X_combine_torch)\n",
    "        f = function_map['heat3d'](y, X_combine_torch)\n",
    "        y_hat = [f, y[-FORWARD_NUM:,0:1]]\n",
    "        r = metric(label_torch,y_hat)\n",
    "        obj = -r\n",
    "        return obj\n",
    "    return pde_r\n",
    "pde_r = opti_pde(metric, X_combine_torch, label_torch, new_traversal)\n",
    "optimized_consts, smse = make_const_optimizer('torch')(pde_r, ini_consts)\n",
    "for i in range(len(optimized_consts)):\n",
    "    new_traversal[consts_index[i]].value = optimized_consts[i]\n",
    "    new_traversal[consts_index[i]].parse_value()\n",
    "test_p = Program()\n",
    "test_p.traversal = new_traversal\n",
    "sym_expr = sp.simplify(sp.N(sp.expand(sp.sympify(test_p.sympy_expr)),4))\n",
    "print(f'Identified solution: {sym_expr}')"
   ]
  }
 ],
 "metadata": {
  "kernelspec": {
   "display_name": "ssde",
   "language": "python",
   "name": "ssde"
  },
  "language_info": {
   "codemirror_mode": {
    "name": "ipython",
    "version": 3
   },
   "file_extension": ".py",
   "mimetype": "text/x-python",
   "name": "python",
   "nbconvert_exporter": "python",
   "pygments_lexer": "ipython3",
   "version": "3.6.13"
  }
 },
 "nbformat": 4,
 "nbformat_minor": 2
}
